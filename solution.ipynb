{
 "cells": [
  {
   "cell_type": "markdown",
   "metadata": {},
   "source": [
    "Import the necessary libraries"
   ]
  },
  {
   "cell_type": "code",
   "execution_count": 1,
   "metadata": {},
   "outputs": [],
   "source": [
    "import re\n",
    "import pandas as pd\n",
    "import joblib\n",
    "import nltk\n",
    "from nltk.tokenize import word_tokenize\n",
    "from nltk.corpus import stopwords\n",
    "from nltk.stem import PorterStemmer\n",
    "from sklearn.model_selection import train_test_split\n",
    "from sklearn.preprocessing import LabelEncoder\n",
    "from sklearn.linear_model import SGDClassifier\n",
    "from sklearn.naive_bayes import MultinomialNB\n",
    "from sklearn.pipeline import Pipeline\n",
    "from sklearn.model_selection import GridSearchCV\n",
    "from sklearn.feature_extraction.text import TfidfTransformer, CountVectorizer\n",
    "from sklearn.linear_model import LogisticRegression\n",
    "from xgboost import XGBClassifier\n",
    "from sklearn.tree import DecisionTreeClassifier\n",
    "from sklearn.ensemble import RandomForestClassifier\n",
    "from sklearn.metrics import accuracy_score, classification_report, precision_score, recall_score, f1_score\n"
   ]
  },
  {
   "cell_type": "code",
   "execution_count": 2,
   "metadata": {},
   "outputs": [],
   "source": [
    "import warnings\n",
    "warnings.filterwarnings(\"ignore\")"
   ]
  },
  {
   "cell_type": "code",
   "execution_count": 3,
   "metadata": {},
   "outputs": [],
   "source": [
    "pd.set_option('display.max_columns', None)"
   ]
  },
  {
   "cell_type": "code",
   "execution_count": 4,
   "metadata": {},
   "outputs": [
    {
     "name": "stdout",
     "output_type": "stream",
     "text": [
      "110217\n"
     ]
    },
    {
     "data": {
      "text/html": [
       "<div>\n",
       "<style scoped>\n",
       "    .dataframe tbody tr th:only-of-type {\n",
       "        vertical-align: middle;\n",
       "    }\n",
       "\n",
       "    .dataframe tbody tr th {\n",
       "        vertical-align: top;\n",
       "    }\n",
       "\n",
       "    .dataframe thead th {\n",
       "        text-align: right;\n",
       "    }\n",
       "</style>\n",
       "<table border=\"1\" class=\"dataframe\">\n",
       "  <thead>\n",
       "    <tr style=\"text-align: right;\">\n",
       "      <th></th>\n",
       "      <th>username</th>\n",
       "      <th>comments</th>\n",
       "      <th>label</th>\n",
       "    </tr>\n",
       "  </thead>\n",
       "  <tbody>\n",
       "    <tr>\n",
       "      <th>0</th>\n",
       "      <td>Different-Ad1735</td>\n",
       "      <td>Hi,\\n\\nThis old tutorial does not work for me,...</td>\n",
       "      <td>Other</td>\n",
       "    </tr>\n",
       "    <tr>\n",
       "      <th>1</th>\n",
       "      <td>Most-Exit-5507</td>\n",
       "      <td>In high school I found a youtube channel calle...</td>\n",
       "      <td>Other</td>\n",
       "    </tr>\n",
       "    <tr>\n",
       "      <th>2</th>\n",
       "      <td>Frizzyawkward</td>\n",
       "      <td>I’m a soon to be veteran looking to get into v...</td>\n",
       "      <td>Other</td>\n",
       "    </tr>\n",
       "    <tr>\n",
       "      <th>3</th>\n",
       "      <td>OkTeaching4656</td>\n",
       "      <td>I currently work at Purdue animal hospital as ...</td>\n",
       "      <td>Other</td>\n",
       "    </tr>\n",
       "    <tr>\n",
       "      <th>4</th>\n",
       "      <td>Flashy-Ad-2261</td>\n",
       "      <td>yes, i quit to. 0,013 myst a month is no good...</td>\n",
       "      <td>Other</td>\n",
       "    </tr>\n",
       "    <tr>\n",
       "      <th>5</th>\n",
       "      <td>ARatNamedClydeBarrow</td>\n",
       "      <td>As a VA, this makes me so sad for you. Yeah it...</td>\n",
       "      <td>Vet</td>\n",
       "    </tr>\n",
       "    <tr>\n",
       "      <th>6</th>\n",
       "      <td>wachinayn</td>\n",
       "      <td>Thanks for the explanation. Do you think that ...</td>\n",
       "      <td>Other</td>\n",
       "    </tr>\n",
       "    <tr>\n",
       "      <th>7</th>\n",
       "      <td>TruggWalgChangs</td>\n",
       "      <td>This is *horrible* OPSEC lol ---&gt; /r/Mysterium...</td>\n",
       "      <td>Other</td>\n",
       "    </tr>\n",
       "    <tr>\n",
       "      <th>8</th>\n",
       "      <td>kriki200</td>\n",
       "      <td>Thanks, it just seems odd to me that they aren...</td>\n",
       "      <td>Other</td>\n",
       "    </tr>\n",
       "    <tr>\n",
       "      <th>9</th>\n",
       "      <td>FreshBread24</td>\n",
       "      <td>Thank you! It helps to know I’m not the only o...</td>\n",
       "      <td>Other</td>\n",
       "    </tr>\n",
       "  </tbody>\n",
       "</table>\n",
       "</div>"
      ],
      "text/plain": [
       "               username                                           comments  \\\n",
       "0      Different-Ad1735  Hi,\\n\\nThis old tutorial does not work for me,...   \n",
       "1        Most-Exit-5507  In high school I found a youtube channel calle...   \n",
       "2         Frizzyawkward  I’m a soon to be veteran looking to get into v...   \n",
       "3        OkTeaching4656  I currently work at Purdue animal hospital as ...   \n",
       "4        Flashy-Ad-2261   yes, i quit to. 0,013 myst a month is no good...   \n",
       "5  ARatNamedClydeBarrow  As a VA, this makes me so sad for you. Yeah it...   \n",
       "6             wachinayn  Thanks for the explanation. Do you think that ...   \n",
       "7       TruggWalgChangs  This is *horrible* OPSEC lol ---> /r/Mysterium...   \n",
       "8              kriki200  Thanks, it just seems odd to me that they aren...   \n",
       "9          FreshBread24  Thank you! It helps to know I’m not the only o...   \n",
       "\n",
       "   label  \n",
       "0  Other  \n",
       "1  Other  \n",
       "2  Other  \n",
       "3  Other  \n",
       "4  Other  \n",
       "5    Vet  \n",
       "6  Other  \n",
       "7  Other  \n",
       "8  Other  \n",
       "9  Other  "
      ]
     },
     "execution_count": 4,
     "metadata": {},
     "output_type": "execute_result"
    }
   ],
   "source": [
    "df = pd.read_csv('data/selected.csv')\n",
    "\n",
    "print(df['comments'].apply(lambda x: len(x.split(' '))).sum())\n",
    "\n",
    "df.head(10)"
   ]
  },
  {
   "cell_type": "code",
   "execution_count": 5,
   "metadata": {},
   "outputs": [
    {
     "data": {
      "image/png": "[encoded data removed]",
      "text/plain": [
       "<Figure size 640x480 with 1 Axes>"
      ]
     },
     "metadata": {},
     "output_type": "display_data"
    }
   ],
   "source": [
    "df.label.value_counts().plot(kind='bar');"
   ]
  },
  {
   "cell_type": "code",
   "execution_count": 6,
   "metadata": {},
   "outputs": [
    {
     "data": {
      "text/plain": [
       "label\n",
       "Other      131\n",
       "Vet         46\n",
       "Med_Doc     21\n",
       "Name: count, dtype: int64"
      ]
     },
     "execution_count": 6,
     "metadata": {},
     "output_type": "execute_result"
    }
   ],
   "source": [
    "df['label'].value_counts()"
   ]
  },
  {
   "cell_type": "markdown",
   "metadata": {},
   "source": [
    "Dataset is imbalanced, other metrics apart from accuracy can be handy."
   ]
  },
  {
   "cell_type": "code",
   "execution_count": 7,
   "metadata": {},
   "outputs": [
    {
     "name": "stderr",
     "output_type": "stream",
     "text": [
      "[nltk_data] Downloading package punkt to /Users/honesty/nltk_data...\n",
      "[nltk_data]   Package punkt is already up-to-date!\n",
      "[nltk_data] Downloading package stopwords to\n",
      "[nltk_data]     /Users/honesty/nltk_data...\n",
      "[nltk_data]   Package stopwords is already up-to-date!\n"
     ]
    },
    {
     "data": {
      "text/plain": [
       "True"
      ]
     },
     "execution_count": 7,
     "metadata": {},
     "output_type": "execute_result"
    }
   ],
   "source": [
    "\n",
    "nltk.download('punkt')\n",
    "nltk.download('stopwords')\n"
   ]
  },
  {
   "cell_type": "code",
   "execution_count": 8,
   "metadata": {},
   "outputs": [],
   "source": [
    "\n",
    "# Initialize stemmer\n",
    "stemmer = PorterStemmer()\n",
    "\n",
    "def combined_clean(comment):\n",
    "    # Remove Non-ASCII characters\n",
    "    comment = re.sub(r\"\\xa0\", r\" \", comment)\n",
    "    comment = comment.encode(\"ascii\", errors=\"ignore\").decode()\n",
    "    \n",
    "    # Lower case the data\n",
    "    comment = comment.lower()\n",
    "    \n",
    "    # Remove HTML Links\n",
    "    comment = re.sub(r'\\w+:\\/{2}[\\d\\w-]+(\\.[\\d\\w-]+)*(?:(?:\\/[^\\s/]*))*', ' ', comment)\n",
    "    comment = re.sub(r'\\n', '', comment)\n",
    "    \n",
    "    # Removing special characters\n",
    "    comment = re.sub(r\"[^A-Za-z0-9!?\\'\\`]\", \" \", comment)\n",
    "\n",
    "    # Removing all the numbers\n",
    "    comment = re.sub(r'[0-9]+', ' ', comment)\n",
    "\n",
    "    # Substituting multiple spaces with single space\n",
    "    comment = re.sub(r'\\s+', ' ', comment, flags=re.I)\n",
    "\n",
    "    # Removing single letters\n",
    "    comment = re.sub(r\"\\b[a-zA-Z]\\b\", \"\", comment)\n",
    "\n",
    "    # Tokenizing\n",
    "    tokens = word_tokenize(comment)\n",
    "    \n",
    "    # Removing stopwords\n",
    "    stop_words = set(stopwords.words('english'))\n",
    "    tokens = [token for token in tokens if token not in stop_words]\n",
    "\n",
    "    # Stemming\n",
    "    tokens = [stemmer.stem(token) for token in tokens]\n",
    "\n",
    "    # Joining tokens back into a string\n",
    "    cleaned_comment = ' '.join(tokens)\n",
    "\n",
    "    return cleaned_comment\n",
    "\n",
    "df['comments'] = df['comments'].apply(combined_clean)\n"
   ]
  },
  {
   "cell_type": "code",
   "execution_count": 9,
   "metadata": {},
   "outputs": [
    {
     "data": {
      "text/plain": [
       "59295"
      ]
     },
     "execution_count": 9,
     "metadata": {},
     "output_type": "execute_result"
    }
   ],
   "source": [
    "# Total words in the data\n",
    "\n",
    "df['comments'].apply(lambda x: len(x.split(' '))).sum()"
   ]
  },
  {
   "cell_type": "code",
   "execution_count": 10,
   "metadata": {},
   "outputs": [],
   "source": [
    "# feature and target\n",
    "\n",
    "X = df['comments']\n",
    "y = df['label'] \n"
   ]
  },
  {
   "cell_type": "code",
   "execution_count": 11,
   "metadata": {},
   "outputs": [],
   "source": [
    "# Splitting the dataset into training and testing sets\n",
    "\n",
    "X_train, X_test, y_train, y_test = train_test_split(X, y, test_size=0.2, random_state=42)"
   ]
  },
  {
   "cell_type": "code",
   "execution_count": 12,
   "metadata": {},
   "outputs": [],
   "source": [
    "# Encode the label\n",
    "\n",
    "le = LabelEncoder()\n",
    "y_train = le.fit_transform(y_train)\n",
    "y_test = le.transform(y_test)"
   ]
  },
  {
   "cell_type": "code",
   "execution_count": 13,
   "metadata": {},
   "outputs": [
    {
     "data": {
      "text/html": [
       "<div>\n",
       "<style scoped>\n",
       "    .dataframe tbody tr th:only-of-type {\n",
       "        vertical-align: middle;\n",
       "    }\n",
       "\n",
       "    .dataframe tbody tr th {\n",
       "        vertical-align: top;\n",
       "    }\n",
       "\n",
       "    .dataframe thead th {\n",
       "        text-align: right;\n",
       "    }\n",
       "</style>\n",
       "<table border=\"1\" class=\"dataframe\">\n",
       "  <thead>\n",
       "    <tr style=\"text-align: right;\">\n",
       "      <th></th>\n",
       "      <th>Machine Learning Model</th>\n",
       "      <th>Accuracy</th>\n",
       "      <th>Precision</th>\n",
       "      <th>Recall</th>\n",
       "      <th>F1 Score</th>\n",
       "      <th>Support</th>\n",
       "    </tr>\n",
       "  </thead>\n",
       "  <tbody>\n",
       "    <tr>\n",
       "      <th>0</th>\n",
       "      <td>SGD Classifier</td>\n",
       "      <td>0.775</td>\n",
       "      <td>0.760000</td>\n",
       "      <td>0.775</td>\n",
       "      <td>0.757456</td>\n",
       "      <td>40</td>\n",
       "    </tr>\n",
       "    <tr>\n",
       "      <th>1</th>\n",
       "      <td>Multinomial Naive Bayes</td>\n",
       "      <td>0.675</td>\n",
       "      <td>0.455625</td>\n",
       "      <td>0.675</td>\n",
       "      <td>0.544030</td>\n",
       "      <td>40</td>\n",
       "    </tr>\n",
       "    <tr>\n",
       "      <th>2</th>\n",
       "      <td>Logistic Regression</td>\n",
       "      <td>0.825</td>\n",
       "      <td>0.842273</td>\n",
       "      <td>0.825</td>\n",
       "      <td>0.799167</td>\n",
       "      <td>40</td>\n",
       "    </tr>\n",
       "    <tr>\n",
       "      <th>3</th>\n",
       "      <td>XGBoost Classifier</td>\n",
       "      <td>0.700</td>\n",
       "      <td>0.655114</td>\n",
       "      <td>0.700</td>\n",
       "      <td>0.660985</td>\n",
       "      <td>40</td>\n",
       "    </tr>\n",
       "    <tr>\n",
       "      <th>4</th>\n",
       "      <td>Decision Tree</td>\n",
       "      <td>0.725</td>\n",
       "      <td>0.719464</td>\n",
       "      <td>0.725</td>\n",
       "      <td>0.721364</td>\n",
       "      <td>40</td>\n",
       "    </tr>\n",
       "    <tr>\n",
       "      <th>5</th>\n",
       "      <td>Random Forest Classifier</td>\n",
       "      <td>0.700</td>\n",
       "      <td>0.617308</td>\n",
       "      <td>0.700</td>\n",
       "      <td>0.595130</td>\n",
       "      <td>40</td>\n",
       "    </tr>\n",
       "  </tbody>\n",
       "</table>\n",
       "</div>"
      ],
      "text/plain": [
       "     Machine Learning Model  Accuracy  Precision  Recall  F1 Score  Support\n",
       "0            SGD Classifier     0.775   0.760000   0.775  0.757456       40\n",
       "1   Multinomial Naive Bayes     0.675   0.455625   0.675  0.544030       40\n",
       "2       Logistic Regression     0.825   0.842273   0.825  0.799167       40\n",
       "3        XGBoost Classifier     0.700   0.655114   0.700  0.660985       40\n",
       "4             Decision Tree     0.725   0.719464   0.725  0.721364       40\n",
       "5  Random Forest Classifier     0.700   0.617308   0.700  0.595130       40"
      ]
     },
     "execution_count": 13,
     "metadata": {},
     "output_type": "execute_result"
    }
   ],
   "source": [
    "# Model training pipeline\n",
    "\n",
    "models = [\n",
    "    (\"SGD Classifier\", SGDClassifier(loss='hinge', penalty='l2', alpha=1e-3, random_state=42, max_iter=13, tol=None)),\n",
    "    (\"Multinomial Naive Bayes\", MultinomialNB()),\n",
    "    (\"Logistic Regression\", LogisticRegression(n_jobs=1, C=1e5)),\n",
    "    (\"XGBoost Classifier\", XGBClassifier(use_label_encoder=False,\n",
    "                  max_depth=8, \n",
    "                  learning_rate=0.05, \n",
    "                  n_estimators=150, \n",
    "                  gamma=0.1, \n",
    "                  subsample=0.8, \n",
    "                  colsample_bytree=0.8, \n",
    "                  reg_alpha=0.1, \n",
    "                  reg_lambda=0.1\n",
    "                  )),\n",
    "    (\"Decision Tree\", DecisionTreeClassifier()),\n",
    "    (\"Random Forest Classifier\", RandomForestClassifier(n_estimators=100, random_state=42))\n",
    "]\n",
    "\n",
    "results = []\n",
    "for name, model in models:\n",
    "    pipe = Pipeline([('vect', CountVectorizer()),\n",
    "                     ('tfidf', TfidfTransformer()),\n",
    "                     ('clf', model),\n",
    "                    ])\n",
    "    pipe.fit(X_train, y_train)\n",
    "    y_pred = pipe.predict(X_test)\n",
    "    accuracy = accuracy_score(y_test, y_pred)\n",
    "    precision = precision_score(y_test, y_pred, average='weighted')\n",
    "    recall = recall_score(y_test, y_pred, average='weighted')\n",
    "    f1 = f1_score(y_test, y_pred, average='weighted')\n",
    "    support = len(y_test)\n",
    "    results.append([name, accuracy, precision, recall, f1, support])\n",
    "\n",
    "metrics = pd.DataFrame(results, columns=['Machine Learning Model', 'Accuracy', 'Precision', 'Recall', 'F1 Score', 'Support'])\n",
    "\n",
    "metrics"
   ]
  },
  {
   "cell_type": "code",
   "execution_count": null,
   "metadata": {},
   "outputs": [],
   "source": []
  },
  {
   "cell_type": "code",
   "execution_count": 14,
   "metadata": {},
   "outputs": [],
   "source": [
    "label_list = ['Med_Doc', 'Other', 'Vet']"
   ]
  },
  {
   "cell_type": "code",
   "execution_count": 15,
   "metadata": {},
   "outputs": [
    {
     "name": "stdout",
     "output_type": "stream",
     "text": [
      "accuracy 0.825\n",
      "              precision    recall  f1-score   support\n",
      "\n",
      "     Med_Doc       1.00      0.33      0.50         6\n",
      "       Other       0.82      1.00      0.90        27\n",
      "         Vet       0.80      0.57      0.67         7\n",
      "\n",
      "    accuracy                           0.82        40\n",
      "   macro avg       0.87      0.63      0.69        40\n",
      "weighted avg       0.84      0.82      0.80        40\n",
      "\n"
     ]
    }
   ],
   "source": [
    "lr = Pipeline([('vect', CountVectorizer()),\n",
    "                ('tfidf', TfidfTransformer()),\n",
    "                ('clf', LogisticRegression(n_jobs=1, C=1e5)),\n",
    "               ])\n",
    "lr.fit(X_train, y_train)\n",
    "\n",
    "y_pred = lr.predict(X_test)\n",
    "\n",
    "print('accuracy %s' % accuracy_score(y_pred, y_test))\n",
    "print(classification_report(y_test, y_pred,target_names=label_list))"
   ]
  },
  {
   "cell_type": "code",
   "execution_count": 16,
   "metadata": {},
   "outputs": [
    {
     "data": {
      "text/plain": [
       "['artifacts/logistic__model.pkl']"
      ]
     },
     "execution_count": 16,
     "metadata": {},
     "output_type": "execute_result"
    }
   ],
   "source": [
    "# Save the best model to disk\n",
    "\n",
    "joblib.dump(lr, 'artifacts/logistic__model.pkl')"
   ]
  },
  {
   "cell_type": "code",
   "execution_count": 18,
   "metadata": {},
   "outputs": [],
   "source": [
    "all_data = pd.read_csv('data/comments.csv')"
   ]
  },
  {
   "cell_type": "code",
   "execution_count": 19,
   "metadata": {},
   "outputs": [],
   "source": [
    "# Predict on test data\n",
    "\n",
    "y_pred = lr.predict(all_data['comments'].apply(combined_clean))"
   ]
  },
  {
   "cell_type": "code",
   "execution_count": 20,
   "metadata": {},
   "outputs": [],
   "source": [
    "# Inverse transform predicted labels\n",
    "\n",
    "predicted_labels = le.inverse_transform(y_pred)"
   ]
  },
  {
   "cell_type": "code",
   "execution_count": 21,
   "metadata": {},
   "outputs": [
    {
     "data": {
      "text/plain": [
       "3276"
      ]
     },
     "execution_count": 21,
     "metadata": {},
     "output_type": "execute_result"
    }
   ],
   "source": [
    "len(predicted_labels)"
   ]
  },
  {
   "cell_type": "code",
   "execution_count": 22,
   "metadata": {},
   "outputs": [],
   "source": [
    "# Create a new DataFrame to store the comments and predicted labels\n",
    "predicted_df = all_data.copy()"
   ]
  },
  {
   "cell_type": "code",
   "execution_count": 23,
   "metadata": {},
   "outputs": [
    {
     "data": {
      "text/plain": [
       "3276"
      ]
     },
     "execution_count": 23,
     "metadata": {},
     "output_type": "execute_result"
    }
   ],
   "source": [
    "len(predicted_df)"
   ]
  },
  {
   "cell_type": "code",
   "execution_count": 24,
   "metadata": {},
   "outputs": [],
   "source": [
    "# Add Predictions to DataFrame\n",
    "predicted_df['label'] = predicted_labels"
   ]
  },
  {
   "cell_type": "code",
   "execution_count": 25,
   "metadata": {},
   "outputs": [],
   "source": [
    "# Save the classified comments \n",
    "\n",
    "predicted_df.to_csv('result/classification_result.csv', index=False)"
   ]
  }
 ],
 "metadata": {
  "kernelspec": {
   "display_name": "ven",
   "language": "python",
   "name": "python3"
  },
  "language_info": {
   "codemirror_mode": {
    "name": "ipython",
    "version": 3
   },
   "file_extension": ".py",
   "mimetype": "text/x-python",
   "name": "python",
   "nbconvert_exporter": "python",
   "pygments_lexer": "ipython3",
   "version": "3.10.12"
  }
 },
 "nbformat": 4,
 "nbformat_minor": 2
}
