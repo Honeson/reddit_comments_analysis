{
 "cells": [
  {
   "cell_type": "code",
   "execution_count": 1,
   "metadata": {},
   "outputs": [],
   "source": [
    "import os\n",
    "import random\n",
    "import pandas as pd\n",
    "from sqlalchemy import create_engine\n",
    "import chromadb\n",
    "from dotenv import load_dotenv"
   ]
  },
  {
   "cell_type": "code",
   "execution_count": null,
   "metadata": {},
   "outputs": [],
   "source": [
    "def get_data(database_url):\n",
    "    engine = create_engine(database_url)\n",
    "    query = \"SELECT * FROM reddit_usernames_comments\"\n",
    "    df = pd.read_sql(query, engine)\n",
    "    return df"
   ]
  },
  {
   "cell_type": "code",
   "execution_count": null,
   "metadata": {},
   "outputs": [],
   "source": [
    "database_url = os.getenv('DATABASE_URL')\n",
    "df = get_data(database_url)\n",
    "df.info()"
   ]
  },
  {
   "cell_type": "code",
   "execution_count": null,
   "metadata": {},
   "outputs": [],
   "source": [
    "df.to_csv('data/comments.csv', index=False)"
   ]
  },
  {
   "cell_type": "code",
   "execution_count": 24,
   "metadata": {},
   "outputs": [
    {
     "data": {
      "text/html": [
       "<div>\n",
       "<style scoped>\n",
       "    .dataframe tbody tr th:only-of-type {\n",
       "        vertical-align: middle;\n",
       "    }\n",
       "\n",
       "    .dataframe tbody tr th {\n",
       "        vertical-align: top;\n",
       "    }\n",
       "\n",
       "    .dataframe thead th {\n",
       "        text-align: right;\n",
       "    }\n",
       "</style>\n",
       "<table border=\"1\" class=\"dataframe\">\n",
       "  <thead>\n",
       "    <tr style=\"text-align: right;\">\n",
       "      <th></th>\n",
       "      <th>username</th>\n",
       "      <th>comments</th>\n",
       "    </tr>\n",
       "  </thead>\n",
       "  <tbody>\n",
       "    <tr>\n",
       "      <th>0</th>\n",
       "      <td>LoveAGoodTwist</td>\n",
       "      <td>Female, Kentucky.  4 years out. Work equine on...</td>\n",
       "    </tr>\n",
       "    <tr>\n",
       "      <th>1</th>\n",
       "      <td>wahznooski</td>\n",
       "      <td>As a woman of reproductive age, fuck Texas|As ...</td>\n",
       "    </tr>\n",
       "    <tr>\n",
       "      <th>2</th>\n",
       "      <td>Churro_The_fish_Girl</td>\n",
       "      <td>what makes you want to become a vet?|what make...</td>\n",
       "    </tr>\n",
       "    <tr>\n",
       "      <th>3</th>\n",
       "      <td>abarthch</td>\n",
       "      <td>I see of course there are changing variables, ...</td>\n",
       "    </tr>\n",
       "    <tr>\n",
       "      <th>4</th>\n",
       "      <td>VoodooKing</td>\n",
       "      <td>I have 412+ and faced issues because wireguard...</td>\n",
       "    </tr>\n",
       "  </tbody>\n",
       "</table>\n",
       "</div>"
      ],
      "text/plain": [
       "               username                                           comments\n",
       "0        LoveAGoodTwist  Female, Kentucky.  4 years out. Work equine on...\n",
       "1            wahznooski  As a woman of reproductive age, fuck Texas|As ...\n",
       "2  Churro_The_fish_Girl  what makes you want to become a vet?|what make...\n",
       "3              abarthch  I see of course there are changing variables, ...\n",
       "4            VoodooKing  I have 412+ and faced issues because wireguard..."
      ]
     },
     "execution_count": 24,
     "metadata": {},
     "output_type": "execute_result"
    }
   ],
   "source": [
    "df = pd.read_csv('comments.csv')\n",
    "df.head()"
   ]
  },
  {
   "cell_type": "code",
   "execution_count": 34,
   "metadata": {},
   "outputs": [],
   "source": [
    "comments_dict = df.set_index('username')['cleaned_comments'].to_dict()"
   ]
  },
  {
   "cell_type": "code",
   "execution_count": 36,
   "metadata": {},
   "outputs": [
    {
     "name": "stderr",
     "output_type": "stream",
     "text": [
      "/var/folders/4b/y66j_ccs6336dsqfhxjxlcqw0000gn/T/ipykernel_1192/1903984158.py:1: DeprecationWarning: Sampling from a set deprecated\n",
      "since Python 3.9 and will be removed in a subsequent version.\n",
      "  random_200_rows = {k: comments_dict[k] for k in random.sample(comments_dict.keys(), 200)}\n"
     ]
    }
   ],
   "source": [
    "random_200_rows = {k: comments_dict[k] for k in random.sample(comments_dict.keys(), 200)}"
   ]
  },
  {
   "cell_type": "code",
   "execution_count": 43,
   "metadata": {},
   "outputs": [],
   "source": [
    "random_200_rows"
   ]
  },
  {
   "cell_type": "code",
   "execution_count": 40,
   "metadata": {},
   "outputs": [],
   "source": [
    "# Divide the dictionary into two parts - 100 rows each\n",
    "dict_part1 = {key: random_200_rows[key] for key in list(random_200_rows.keys())[:100]}\n",
    "dict_part2 = {key: random_200_rows[key] for key in list(random_200_rows.keys())[100:]}"
   ]
  },
  {
   "cell_type": "code",
   "execution_count": 44,
   "metadata": {},
   "outputs": [],
   "source": [
    "# Divide the dictionary into two parts - 100 rows each\n",
    "dict_part1_1 = {key: dict_part1[key] for key in list(dict_part1.keys())[:50]}\n",
    "dict_part1_2 = {key: dict_part1[key] for key in list(dict_part1.keys())[50:]}"
   ]
  },
  {
   "cell_type": "code",
   "execution_count": 49,
   "metadata": {},
   "outputs": [
    {
     "name": "stdout",
     "output_type": "stream",
     "text": [
      "Total number of characters in the dictionary: 142313\n"
     ]
    }
   ],
   "source": [
    "# Calculate the total number of characters in the dictionary including both keys and values\n",
    "total_characters = sum(len(key) + sum(len(value) for value in values) for key, values in dict_part1_2.items())\n",
    "\n",
    "# Display the total number of characters\n",
    "print(\"Total number of characters in the dictionary:\", total_characters)\n"
   ]
  },
  {
   "cell_type": "code",
   "execution_count": 55,
   "metadata": {},
   "outputs": [
    {
     "data": {
      "text/plain": [
       "True"
      ]
     },
     "execution_count": 55,
     "metadata": {},
     "output_type": "execute_result"
    }
   ],
   "source": [
    "load_dotenv()"
   ]
  },
  {
   "cell_type": "code",
   "execution_count": 56,
   "metadata": {},
   "outputs": [],
   "source": [
    "from anthropic import Anthropic\n",
    "client = Anthropic()\n",
    "MODEL_NAME = \"claude-3-opus-20240229\""
   ]
  },
  {
   "cell_type": "code",
   "execution_count": 57,
   "metadata": {},
   "outputs": [],
   "source": [
    "def get_completion(client, prompt):\n",
    "    return client.messages.create(\n",
    "        model=MODEL_NAME,\n",
    "        max_tokens=4048,\n",
    "        messages=[{\n",
    "            \"role\": 'user', \"content\":  prompt\n",
    "        }]\n",
    "    ).content[0].text"
   ]
  },
  {
   "cell_type": "code",
   "execution_count": 66,
   "metadata": {},
   "outputs": [],
   "source": [
    "prompt=f\"\"\"\n",
    "The following dictionary contains reddit comments where the keys are usernames and the values are the corresponding comments:\n",
    "{dict_part1_2}\n",
    "\n",
    "You are to analyze the comments and determine who made the comment.\n",
    "\n",
    "Your classifier should run through this list and determine if they are of these categories:\n",
    "\n",
    "Medical Doctor:\n",
    "This label should only include practicing doctors and or consultants to doctors/clinics. \n",
    "Medical school students, nurses or medical professionals who aren’t doctors should go into the “Other” label instead.\n",
    "\n",
    "Veterinarian:\n",
    "This label should only include practicing vets and/or consultants to vets/clinics. \n",
    "Veterinarian students or veterinarian technicians should go into the “Other” label instead.\n",
    "\n",
    "Other:\n",
    "Anyone who does not fit within the Medical Doctor, or a Veterinarian label.\n",
    "\n",
    "Your response should contain a Python dictionary with keys as the usernames and values as the assigned label, don't include the actual comments in your response.\n",
    "\"\"\""
   ]
  },
  {
   "cell_type": "code",
   "execution_count": 67,
   "metadata": {},
   "outputs": [
    {
     "name": "stdout",
     "output_type": "stream",
     "text": [
      "Here is the Python dictionary classifying each user based on their comments:\n",
      "\n",
      "{\n",
      "    'avero34': 'Other',\n",
      "    'Huntseatqueen': 'Other',\n",
      "    'PracticalAioli6764': 'Other',\n",
      "    'MSmith3813': 'Veterinarian',\n",
      "    'relevancycheck': 'Other',\n",
      "    'nextlevelou': 'Other',\n",
      "    'PankNails': 'Other',\n",
      "    'o_my_captain': 'Veterinarian',\n",
      "    'Prestigious_Wheel128': 'Other',\n",
      "    'Ventaura': 'Veterinarian',\n",
      "    'Affectionate_Net_213': 'Veterinarian',\n",
      "    'wachinayn': 'Other',\n",
      "    'Altruistic_Ad4949': 'Veterinarian',\n",
      "    'glitchgorge': 'Other',\n",
      "    'mckenna310': 'Other',\n",
      "    'PetLuxincps': 'Veterinarian',\n",
      "    'big_fat_momma_llama': 'Other',\n",
      "    'Zealousideal-Dog-31': 'Veterinarian',\n",
      "    'Mighty_Buddha': 'Other',\n",
      "    'CopiousCoffee_': 'Other',\n",
      "    'kriki200': 'Other',\n",
      "    'techtornado': 'Other',\n",
      "    'shumbalar': 'Other',\n",
      "    'Resident_Bitch': 'Other',\n",
      "    'Adventurous_Pear_711': 'Other',\n",
      "    'FUmods89': 'Other',\n",
      "    'satsukitea': 'Other',\n",
      "    'Ectophylla-alba': 'Other',\n",
      "    'MyIslandHomes': 'Other',\n",
      "    'Achromatic_Raven': 'Other',\n",
      "    'Standard-Log8276': 'Other',\n",
      "    'FoundationTasty8651': 'Other',\n",
      "    'Sorryimbusy60': 'Other',\n",
      "    'Worth-Employment-600': 'Other',\n",
      "    'CarefulCommunity7855': 'Other',\n",
      "    'FreshBread24': 'Other',\n",
      "    'herbaceous12': 'Veterinarian',\n",
      "    'Vast-Bench-4613': 'Other',\n",
      "    'lukas_1989': 'Other',\n",
      "    'fran_grc': 'Veterinarian',\n",
      "    'DodrantalNails': 'Other',\n",
      "    'Wershingtern': 'Other'\n",
      "}\n"
     ]
    }
   ],
   "source": [
    "completion = get_completion(client, prompt)\n",
    "print(completion)"
   ]
  },
  {
   "cell_type": "code",
   "execution_count": 68,
   "metadata": {},
   "outputs": [],
   "source": [
    "from dict_result import my_dict"
   ]
  },
  {
   "cell_type": "code",
   "execution_count": 69,
   "metadata": {},
   "outputs": [
    {
     "data": {
      "text/plain": [
       "189"
      ]
     },
     "execution_count": 69,
     "metadata": {},
     "output_type": "execute_result"
    }
   ],
   "source": [
    "len(my_dict)"
   ]
  },
  {
   "cell_type": "code",
   "execution_count": 70,
   "metadata": {},
   "outputs": [],
   "source": [
    "# Assuming df is your parent dataframe and user_label_dict is your dictionary\n",
    "# Create a DataFrame from the dictionary\n",
    "user_label_df = pd.DataFrame.from_dict(my_dict, orient='index', columns=['label'])\n",
    "\n",
    "# Reset index to make 'username' a column instead of index\n",
    "user_label_df.reset_index(inplace=True)\n",
    "user_label_df.rename(columns={'index': 'username'}, inplace=True)\n",
    "\n",
    "# Merge user_label_df with the parent dataframe on the 'username' column\n",
    "merged_df = pd.merge(df, user_label_df, on='username', how='inner')\n",
    "\n",
    "# Select the desired columns from the merged dataframe\n",
    "selected_df = merged_df[['username', 'comments', 'label']]\n"
   ]
  },
  {
   "cell_type": "code",
   "execution_count": 71,
   "metadata": {},
   "outputs": [
    {
     "data": {
      "text/html": [
       "<div>\n",
       "<style scoped>\n",
       "    .dataframe tbody tr th:only-of-type {\n",
       "        vertical-align: middle;\n",
       "    }\n",
       "\n",
       "    .dataframe tbody tr th {\n",
       "        vertical-align: top;\n",
       "    }\n",
       "\n",
       "    .dataframe thead th {\n",
       "        text-align: right;\n",
       "    }\n",
       "</style>\n",
       "<table border=\"1\" class=\"dataframe\">\n",
       "  <thead>\n",
       "    <tr style=\"text-align: right;\">\n",
       "      <th></th>\n",
       "      <th>username</th>\n",
       "      <th>comments</th>\n",
       "      <th>label</th>\n",
       "    </tr>\n",
       "  </thead>\n",
       "  <tbody>\n",
       "    <tr>\n",
       "      <th>0</th>\n",
       "      <td>Different-Ad1735</td>\n",
       "      <td>Hi,\\n\\nThis old tutorial does not work for me,...</td>\n",
       "      <td>Other</td>\n",
       "    </tr>\n",
       "    <tr>\n",
       "      <th>1</th>\n",
       "      <td>Most-Exit-5507</td>\n",
       "      <td>In high school I found a youtube channel calle...</td>\n",
       "      <td>Other</td>\n",
       "    </tr>\n",
       "    <tr>\n",
       "      <th>2</th>\n",
       "      <td>Frizzyawkward</td>\n",
       "      <td>I’m a soon to be veteran looking to get into v...</td>\n",
       "      <td>Other</td>\n",
       "    </tr>\n",
       "    <tr>\n",
       "      <th>3</th>\n",
       "      <td>OkTeaching4656</td>\n",
       "      <td>I currently work at Purdue animal hospital as ...</td>\n",
       "      <td>Other</td>\n",
       "    </tr>\n",
       "    <tr>\n",
       "      <th>4</th>\n",
       "      <td>Flashy-Ad-2261</td>\n",
       "      <td>yes, i quit to. 0,013 myst a month is no good...</td>\n",
       "      <td>Other</td>\n",
       "    </tr>\n",
       "  </tbody>\n",
       "</table>\n",
       "</div>"
      ],
      "text/plain": [
       "           username                                           comments  label\n",
       "0  Different-Ad1735  Hi,\\n\\nThis old tutorial does not work for me,...  Other\n",
       "1    Most-Exit-5507  In high school I found a youtube channel calle...  Other\n",
       "2     Frizzyawkward  I’m a soon to be veteran looking to get into v...  Other\n",
       "3    OkTeaching4656  I currently work at Purdue animal hospital as ...  Other\n",
       "4    Flashy-Ad-2261   yes, i quit to. 0,013 myst a month is no good...  Other"
      ]
     },
     "execution_count": 71,
     "metadata": {},
     "output_type": "execute_result"
    }
   ],
   "source": [
    "selected_df.head()"
   ]
  },
  {
   "cell_type": "code",
   "execution_count": 72,
   "metadata": {},
   "outputs": [
    {
     "name": "stdout",
     "output_type": "stream",
     "text": [
      "<class 'pandas.core.frame.DataFrame'>\n",
      "RangeIndex: 188 entries, 0 to 187\n",
      "Data columns (total 3 columns):\n",
      " #   Column    Non-Null Count  Dtype \n",
      "---  ------    --------------  ----- \n",
      " 0   username  188 non-null    object\n",
      " 1   comments  188 non-null    object\n",
      " 2   label     188 non-null    object\n",
      "dtypes: object(3)\n",
      "memory usage: 4.5+ KB\n"
     ]
    }
   ],
   "source": [
    "selected_df.info()"
   ]
  },
  {
   "cell_type": "code",
   "execution_count": 73,
   "metadata": {},
   "outputs": [],
   "source": [
    "more_doc = [\n",
    "    {\"username\": \"doc001\", \"comments\": \"In my experience, fostering a culture of mutual respect and collaboration in the clinic leads to better patient outcomes and team morale. Let's prioritize communication and teamwork for the benefit of our patients\",  \"label\": \"Medical Doctor\"},\n",
    "    {\"username\": \"doc002\", \"comments\": \"As a practicing physician, I've found that humility and empathy go a long way in building strong relationships with colleagues and staff. Let's strive for a culture of inclusivity and support in our medical community.\", \"label\": \"Medical Doctor\"},\n",
    "    {\"username\": \"doc003\", \"comments\": \"It's important to recognize the diverse skill sets and contributions of every member of the healthcare team. We're all here to serve our patients, and acknowledging each other's expertise is key to delivering high-quality care.\", \"label\": \"Medical Doctor\"},\n",
    "    {\"username\": \"doc004\", \"comments\": \"I've learned throughout my career that effective communication and mutual respect are essential for a successful medical practice. Let's focus on building trust and collaboration among our team.\", \"label\": \"Medical Doctor\" },\n",
    "    {\"username\": \"doc005\", \"comments\": \"As doctors, we must lead by example in fostering a culture of professionalism and respect in our workplace. Let's prioritize open communication and constructive feedback to promote a positive working environment.\", \"label\": \"Medical Doctor\"},\n",
    "    {\"username\": \"doc006\", \"comments\": \"In my experience, addressing conflicts and misunderstandings openly and respectfully is crucial for maintaining a cohesive healthcare team. Let's encourage open dialogue and constructive problem-solving.\", \"label\": \"Medical Doctor\"},\n",
    "    {\"username\": \"doc007\", \"comments\": \"As a physician, I believe that creating a supportive and inclusive work environment is essential for the well-being of both patients and staff. Let's commit to treating each other with kindness and respect.\",  \"label\": \"Medical Doctor\"},\n",
    "    {\"username\": \"doc008\", \"comments\": \"I've found that investing in mentorship and professional development opportunities for staff can greatly enhance team cohesion and morale. Let's support each other's growth and success in our medical careers.\", \"label\": \"Medical Doctor\"},\n",
    "    {\"username\": \"doc009\", \"comments\": \"As doctors, we have a responsibility to advocate for a workplace culture that values diversity, equity, and inclusion. Let's work together to create a welcoming and supportive environment for all members of our team.\", \"label\": \"Medical Doctor\"},\n",
    "    {\"username\": \"doc009\", \"comments\": \"In my practice, I've seen firsthand the positive impact of fostering a culture of trust and collaboration among healthcare professionals. Let's strive to build strong relationships and mutual respect in our workplace.\", \"label\": \"Medical Doctor\"}\n",
    "]"
   ]
  },
  {
   "cell_type": "code",
   "execution_count": 75,
   "metadata": {},
   "outputs": [],
   "source": [
    "# Convert the list of dictionaries into a DataFrame\n",
    "more_doc_df = pd.DataFrame(more_doc)\n",
    "\n",
    "# Concatenate the new rows DataFrame with the original DataFrame\n",
    "selected_df = pd.concat([selected_df, more_doc_df], ignore_index=True)"
   ]
  },
  {
   "cell_type": "code",
   "execution_count": 76,
   "metadata": {},
   "outputs": [
    {
     "data": {
      "text/html": [
       "<div>\n",
       "<style scoped>\n",
       "    .dataframe tbody tr th:only-of-type {\n",
       "        vertical-align: middle;\n",
       "    }\n",
       "\n",
       "    .dataframe tbody tr th {\n",
       "        vertical-align: top;\n",
       "    }\n",
       "\n",
       "    .dataframe thead th {\n",
       "        text-align: right;\n",
       "    }\n",
       "</style>\n",
       "<table border=\"1\" class=\"dataframe\">\n",
       "  <thead>\n",
       "    <tr style=\"text-align: right;\">\n",
       "      <th></th>\n",
       "      <th>username</th>\n",
       "      <th>comments</th>\n",
       "      <th>label</th>\n",
       "    </tr>\n",
       "  </thead>\n",
       "  <tbody>\n",
       "    <tr>\n",
       "      <th>0</th>\n",
       "      <td>Different-Ad1735</td>\n",
       "      <td>Hi,\\n\\nThis old tutorial does not work for me,...</td>\n",
       "      <td>Other</td>\n",
       "    </tr>\n",
       "    <tr>\n",
       "      <th>1</th>\n",
       "      <td>Most-Exit-5507</td>\n",
       "      <td>In high school I found a youtube channel calle...</td>\n",
       "      <td>Other</td>\n",
       "    </tr>\n",
       "    <tr>\n",
       "      <th>2</th>\n",
       "      <td>Frizzyawkward</td>\n",
       "      <td>I’m a soon to be veteran looking to get into v...</td>\n",
       "      <td>Other</td>\n",
       "    </tr>\n",
       "    <tr>\n",
       "      <th>3</th>\n",
       "      <td>OkTeaching4656</td>\n",
       "      <td>I currently work at Purdue animal hospital as ...</td>\n",
       "      <td>Other</td>\n",
       "    </tr>\n",
       "    <tr>\n",
       "      <th>4</th>\n",
       "      <td>Flashy-Ad-2261</td>\n",
       "      <td>yes, i quit to. 0,013 myst a month is no good...</td>\n",
       "      <td>Other</td>\n",
       "    </tr>\n",
       "    <tr>\n",
       "      <th>...</th>\n",
       "      <td>...</td>\n",
       "      <td>...</td>\n",
       "      <td>...</td>\n",
       "    </tr>\n",
       "    <tr>\n",
       "      <th>193</th>\n",
       "      <td>doc006</td>\n",
       "      <td>In my experience, addressing conflicts and mis...</td>\n",
       "      <td>Medical Doctor</td>\n",
       "    </tr>\n",
       "    <tr>\n",
       "      <th>194</th>\n",
       "      <td>doc007</td>\n",
       "      <td>As a physician, I believe that creating a supp...</td>\n",
       "      <td>Medical Doctor</td>\n",
       "    </tr>\n",
       "    <tr>\n",
       "      <th>195</th>\n",
       "      <td>doc008</td>\n",
       "      <td>I've found that investing in mentorship and pr...</td>\n",
       "      <td>Medical Doctor</td>\n",
       "    </tr>\n",
       "    <tr>\n",
       "      <th>196</th>\n",
       "      <td>doc009</td>\n",
       "      <td>As doctors, we have a responsibility to advoca...</td>\n",
       "      <td>Medical Doctor</td>\n",
       "    </tr>\n",
       "    <tr>\n",
       "      <th>197</th>\n",
       "      <td>doc009</td>\n",
       "      <td>In my practice, I've seen firsthand the positi...</td>\n",
       "      <td>Medical Doctor</td>\n",
       "    </tr>\n",
       "  </tbody>\n",
       "</table>\n",
       "<p>198 rows × 3 columns</p>\n",
       "</div>"
      ],
      "text/plain": [
       "             username                                           comments  \\\n",
       "0    Different-Ad1735  Hi,\\n\\nThis old tutorial does not work for me,...   \n",
       "1      Most-Exit-5507  In high school I found a youtube channel calle...   \n",
       "2       Frizzyawkward  I’m a soon to be veteran looking to get into v...   \n",
       "3      OkTeaching4656  I currently work at Purdue animal hospital as ...   \n",
       "4      Flashy-Ad-2261   yes, i quit to. 0,013 myst a month is no good...   \n",
       "..                ...                                                ...   \n",
       "193            doc006  In my experience, addressing conflicts and mis...   \n",
       "194            doc007  As a physician, I believe that creating a supp...   \n",
       "195            doc008  I've found that investing in mentorship and pr...   \n",
       "196            doc009  As doctors, we have a responsibility to advoca...   \n",
       "197            doc009  In my practice, I've seen firsthand the positi...   \n",
       "\n",
       "              label  \n",
       "0             Other  \n",
       "1             Other  \n",
       "2             Other  \n",
       "3             Other  \n",
       "4             Other  \n",
       "..              ...  \n",
       "193  Medical Doctor  \n",
       "194  Medical Doctor  \n",
       "195  Medical Doctor  \n",
       "196  Medical Doctor  \n",
       "197  Medical Doctor  \n",
       "\n",
       "[198 rows x 3 columns]"
      ]
     },
     "execution_count": 76,
     "metadata": {},
     "output_type": "execute_result"
    }
   ],
   "source": [
    "selected_df"
   ]
  },
  {
   "cell_type": "code",
   "execution_count": 77,
   "metadata": {},
   "outputs": [],
   "source": [
    "\n",
    "selected_df['label'] = selected_df['label'].replace({'Veterinarian': 'Vet', 'Medical Doctor': 'Med_Doc'})\n"
   ]
  },
  {
   "cell_type": "code",
   "execution_count": 78,
   "metadata": {},
   "outputs": [
    {
     "name": "stdout",
     "output_type": "stream",
     "text": [
      "<class 'pandas.core.frame.DataFrame'>\n",
      "RangeIndex: 198 entries, 0 to 197\n",
      "Data columns (total 3 columns):\n",
      " #   Column    Non-Null Count  Dtype \n",
      "---  ------    --------------  ----- \n",
      " 0   username  198 non-null    object\n",
      " 1   comments  198 non-null    object\n",
      " 2   label     198 non-null    object\n",
      "dtypes: object(3)\n",
      "memory usage: 4.8+ KB\n"
     ]
    }
   ],
   "source": [
    "selected_df.info()"
   ]
  },
  {
   "cell_type": "code",
   "execution_count": 79,
   "metadata": {},
   "outputs": [
    {
     "data": {
      "text/plain": [
       "label\n",
       "Other      131\n",
       "Vet         46\n",
       "Med_Doc     21\n",
       "Name: count, dtype: int64"
      ]
     },
     "execution_count": 79,
     "metadata": {},
     "output_type": "execute_result"
    }
   ],
   "source": [
    "selected_df['label'].value_counts()"
   ]
  },
  {
   "cell_type": "code",
   "execution_count": 80,
   "metadata": {},
   "outputs": [],
   "source": [
    "selected_df.to_csv('selected.csv', index=False)"
   ]
  }
 ],
 "metadata": {
  "kernelspec": {
   "display_name": "ven",
   "language": "python",
   "name": "python3"
  },
  "language_info": {
   "codemirror_mode": {
    "name": "ipython",
    "version": 3
   },
   "file_extension": ".py",
   "mimetype": "text/x-python",
   "name": "python",
   "nbconvert_exporter": "python",
   "pygments_lexer": "ipython3",
   "version": "3.10.12"
  }
 },
 "nbformat": 4,
 "nbformat_minor": 2
}
