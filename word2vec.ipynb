{
 "cells": [
  {
   "cell_type": "code",
   "execution_count": 1,
   "metadata": {},
   "outputs": [],
   "source": [
    "import logging\n",
    "import pandas as pd\n",
    "import numpy as np\n",
    "from numpy import random\n",
    "#import scipy\n",
    "import gensim\n",
    "import nltk\n",
    "from sklearn.model_selection import train_test_split\n",
    "from sklearn.feature_extraction.text import CountVectorizer, TfidfVectorizer\n",
    "from sklearn.metrics import accuracy_score, confusion_matrix\n",
    "import matplotlib.pyplot as plt\n",
    "from nltk.corpus import stopwords\n",
    "import re\n",
    "from bs4 import BeautifulSoup\n",
    "\n",
    "from tqdm import tqdm\n",
    "tqdm.pandas(desc=\"progress-bar\")\n",
    "from gensim.models import Doc2Vec\n",
    "from sklearn import utils\n",
    "import gensim\n",
    "from sklearn.metrics import classification_report\n",
    "from gensim.models.doc2vec import TaggedDocument\n",
    "import re\n",
    "%matplotlib inline"
   ]
  },
  {
   "cell_type": "code",
   "execution_count": 2,
   "metadata": {},
   "outputs": [
    {
     "name": "stdout",
     "output_type": "stream",
     "text": [
      "110217\n"
     ]
    },
    {
     "data": {
      "text/html": [
       "<div>\n",
       "<style scoped>\n",
       "    .dataframe tbody tr th:only-of-type {\n",
       "        vertical-align: middle;\n",
       "    }\n",
       "\n",
       "    .dataframe tbody tr th {\n",
       "        vertical-align: top;\n",
       "    }\n",
       "\n",
       "    .dataframe thead th {\n",
       "        text-align: right;\n",
       "    }\n",
       "</style>\n",
       "<table border=\"1\" class=\"dataframe\">\n",
       "  <thead>\n",
       "    <tr style=\"text-align: right;\">\n",
       "      <th></th>\n",
       "      <th>username</th>\n",
       "      <th>comments</th>\n",
       "      <th>label</th>\n",
       "    </tr>\n",
       "  </thead>\n",
       "  <tbody>\n",
       "    <tr>\n",
       "      <th>0</th>\n",
       "      <td>Different-Ad1735</td>\n",
       "      <td>Hi,\\n\\nThis old tutorial does not work for me,...</td>\n",
       "      <td>Other</td>\n",
       "    </tr>\n",
       "    <tr>\n",
       "      <th>1</th>\n",
       "      <td>Most-Exit-5507</td>\n",
       "      <td>In high school I found a youtube channel calle...</td>\n",
       "      <td>Other</td>\n",
       "    </tr>\n",
       "    <tr>\n",
       "      <th>2</th>\n",
       "      <td>Frizzyawkward</td>\n",
       "      <td>I’m a soon to be veteran looking to get into v...</td>\n",
       "      <td>Other</td>\n",
       "    </tr>\n",
       "    <tr>\n",
       "      <th>3</th>\n",
       "      <td>OkTeaching4656</td>\n",
       "      <td>I currently work at Purdue animal hospital as ...</td>\n",
       "      <td>Other</td>\n",
       "    </tr>\n",
       "    <tr>\n",
       "      <th>4</th>\n",
       "      <td>Flashy-Ad-2261</td>\n",
       "      <td>yes, i quit to. 0,013 myst a month is no good...</td>\n",
       "      <td>Other</td>\n",
       "    </tr>\n",
       "    <tr>\n",
       "      <th>5</th>\n",
       "      <td>ARatNamedClydeBarrow</td>\n",
       "      <td>As a VA, this makes me so sad for you. Yeah it...</td>\n",
       "      <td>Vet</td>\n",
       "    </tr>\n",
       "    <tr>\n",
       "      <th>6</th>\n",
       "      <td>wachinayn</td>\n",
       "      <td>Thanks for the explanation. Do you think that ...</td>\n",
       "      <td>Other</td>\n",
       "    </tr>\n",
       "    <tr>\n",
       "      <th>7</th>\n",
       "      <td>TruggWalgChangs</td>\n",
       "      <td>This is *horrible* OPSEC lol ---&gt; /r/Mysterium...</td>\n",
       "      <td>Other</td>\n",
       "    </tr>\n",
       "    <tr>\n",
       "      <th>8</th>\n",
       "      <td>kriki200</td>\n",
       "      <td>Thanks, it just seems odd to me that they aren...</td>\n",
       "      <td>Other</td>\n",
       "    </tr>\n",
       "    <tr>\n",
       "      <th>9</th>\n",
       "      <td>FreshBread24</td>\n",
       "      <td>Thank you! It helps to know I’m not the only o...</td>\n",
       "      <td>Other</td>\n",
       "    </tr>\n",
       "  </tbody>\n",
       "</table>\n",
       "</div>"
      ],
      "text/plain": [
       "               username                                           comments  \\\n",
       "0      Different-Ad1735  Hi,\\n\\nThis old tutorial does not work for me,...   \n",
       "1        Most-Exit-5507  In high school I found a youtube channel calle...   \n",
       "2         Frizzyawkward  I’m a soon to be veteran looking to get into v...   \n",
       "3        OkTeaching4656  I currently work at Purdue animal hospital as ...   \n",
       "4        Flashy-Ad-2261   yes, i quit to. 0,013 myst a month is no good...   \n",
       "5  ARatNamedClydeBarrow  As a VA, this makes me so sad for you. Yeah it...   \n",
       "6             wachinayn  Thanks for the explanation. Do you think that ...   \n",
       "7       TruggWalgChangs  This is *horrible* OPSEC lol ---> /r/Mysterium...   \n",
       "8              kriki200  Thanks, it just seems odd to me that they aren...   \n",
       "9          FreshBread24  Thank you! It helps to know I’m not the only o...   \n",
       "\n",
       "   label  \n",
       "0  Other  \n",
       "1  Other  \n",
       "2  Other  \n",
       "3  Other  \n",
       "4  Other  \n",
       "5    Vet  \n",
       "6  Other  \n",
       "7  Other  \n",
       "8  Other  \n",
       "9  Other  "
      ]
     },
     "execution_count": 2,
     "metadata": {},
     "output_type": "execute_result"
    }
   ],
   "source": [
    "df = pd.read_csv('selected.csv')\n",
    "\n",
    "print(df['comments'].apply(lambda x: len(x.split(' '))).sum())\n",
    "\n",
    "df.head(10)"
   ]
  },
  {
   "cell_type": "code",
   "execution_count": 17,
   "metadata": {},
   "outputs": [
    {
     "data": {
      "image/png": "[encoded data removed]",
      "text/plain": [
       "<Figure size 640x480 with 1 Axes>"
      ]
     },
     "metadata": {},
     "output_type": "display_data"
    }
   ],
   "source": [
    "df.label.value_counts().plot(kind='bar');"
   ]
  },
  {
   "cell_type": "code",
   "execution_count": 18,
   "metadata": {},
   "outputs": [],
   "source": [
    "# Function to clean comments\n",
    "def clean_comments(comments):\n",
    "    # Split comments by \"|\", strip whitespace, and remove duplicates\n",
    "    cleaned_comments = comments.split('|')\n",
    "    cleaned_comments = [comment.strip() for comment in cleaned_comments]\n",
    "    cleaned_comments = list(set(cleaned_comments))\n",
    "    # Remove empty strings\n",
    "    cleaned_comments = [comment for comment in cleaned_comments if comment]\n",
    "    # Join the cleaned comments\n",
    "    return ' '.join(cleaned_comments)\n",
    "\n",
    "# Apply the cleaning function to the comments column and save the result in a new column\n",
    "df['comments'] = df['comments'].apply(clean_comments)"
   ]
  },
  {
   "cell_type": "code",
   "execution_count": 19,
   "metadata": {},
   "outputs": [],
   "source": [
    "from nltk.stem import PorterStemmer\n",
    "\n",
    "# Initialize the PorterStemmer\n",
    "stemmer = PorterStemmer()"
   ]
  },
  {
   "cell_type": "code",
   "execution_count": 20,
   "metadata": {},
   "outputs": [
    {
     "name": "stderr",
     "output_type": "stream",
     "text": [
      "[nltk_data] Downloading package punkt to /Users/honesty/nltk_data...\n",
      "[nltk_data]   Package punkt is already up-to-date!\n",
      "[nltk_data] Downloading package stopwords to\n",
      "[nltk_data]     /Users/honesty/nltk_data...\n",
      "[nltk_data]   Package stopwords is already up-to-date!\n"
     ]
    },
    {
     "data": {
      "text/plain": [
       "True"
      ]
     },
     "execution_count": 20,
     "metadata": {},
     "output_type": "execute_result"
    }
   ],
   "source": [
    "\n",
    "nltk.download('punkt')\n",
    "nltk.download('stopwords')\n"
   ]
  },
  {
   "cell_type": "code",
   "execution_count": 21,
   "metadata": {},
   "outputs": [],
   "source": [
    "from nltk.tokenize import word_tokenize"
   ]
  },
  {
   "cell_type": "code",
   "execution_count": 22,
   "metadata": {},
   "outputs": [],
   "source": [
    "\n",
    "def preprocess_text(text):\n",
    "    # Convert to lowercase\n",
    "    text = text.lower()\n",
    "    # Remove special characters\n",
    "    text = re.sub(r'[^a-zA-Z0-9\\s]', '', text)\n",
    "    # Tokenize\n",
    "    tokens = word_tokenize(text)\n",
    "    # Remove stopwords\n",
    "    stop_words = set(stopwords.words('english'))\n",
    "    tokens = [token for token in tokens if token not in stop_words]\n",
    "    # Stemming\n",
    "    tokens = [stemmer.stem(token) for token in tokens]\n",
    "    return ' '.join(tokens)\n",
    "\n",
    "# Apply the preprocessing to the comments column\n",
    "df['comments'] = df['comments'].apply(preprocess_text)\n"
   ]
  },
  {
   "cell_type": "code",
   "execution_count": 6,
   "metadata": {},
   "outputs": [],
   "source": [
    "# feature and target\n",
    "X = df['comments']\n",
    "y = df['label'] \n"
   ]
  },
  {
   "cell_type": "code",
   "execution_count": 7,
   "metadata": {},
   "outputs": [],
   "source": [
    "# Splitting the dataset into training and testing sets\n",
    "X_train, X_test, y_train, y_test = train_test_split(X, y, test_size=0.2, random_state=42)"
   ]
  },
  {
   "cell_type": "code",
   "execution_count": 10,
   "metadata": {},
   "outputs": [
    {
     "data": {
      "text/plain": [
       "label\n",
       "Other      131\n",
       "Vet         46\n",
       "Med_Doc     21\n",
       "Name: count, dtype: int64"
      ]
     },
     "execution_count": 10,
     "metadata": {},
     "output_type": "execute_result"
    }
   ],
   "source": [
    "df['label'].value_counts()"
   ]
  },
  {
   "cell_type": "code",
   "execution_count": 11,
   "metadata": {},
   "outputs": [],
   "source": [
    "label_list = ['Other', 'Vet', 'Med_Doc']"
   ]
  },
  {
   "cell_type": "code",
   "execution_count": 8,
   "metadata": {},
   "outputs": [],
   "source": [
    "doc2vec = Doc2Vec()\n",
    "def label_sentences(corpus, label_type):\n",
    "    \"\"\"\n",
    "    Gensim's Doc2Vec implementation requires each document/paragraph to have a label associated with it.\n",
    "    We do this by using the TaggedDocument method. The format will be \"TRAIN_i\" or \"TEST_i\" where \"i\" is\n",
    "    a dummy index of the post.\n",
    "    \"\"\"\n",
    "    labeled = []\n",
    "    for i, v in enumerate(corpus):\n",
    "        label = label_type + '_' + str(i)\n",
    "        labeled.append(TaggedDocument(v.split(), [label]))\n",
    "    return labeled\n",
    "X_train, X_test, y_train, y_test = train_test_split(df['comments'], df['label'], random_state=0, test_size=0.3)\n",
    "X_train = label_sentences(X_train, 'Train')\n",
    "X_test = label_sentences(X_test, 'Test')\n",
    "all_data = X_train + X_test"
   ]
  },
  {
   "cell_type": "code",
   "execution_count": 9,
   "metadata": {},
   "outputs": [
    {
     "data": {
      "text/plain": [
       "[TaggedDocument(words=['https', 'wwwgovuk', 'skilledworkervisa', 'whenyoucanbepaidless', 'ive', 'learned', 'hasnt', 'really', 'taught', 'earlier', 'mutable', 'structures', 'blood', 'vessels', 'liver', 'heart', 'etc', 'need', 'compared', 'immutable', 'ones', 'primarily', 'bones', 'average', 'measurements', 'normal', 'heart', 'left', 'atrium', 'etc', 'wide', 'variety', 'breeds', 'individuals', 'makes', 'sense', 'compare', 'pulmonary', 'vessels', 'width', 'ribs', 'heart', 'size', 'vertebrae', 'obviously', 'isnt', 'one', 'size', 'fits', 'solution', 'either', 'definitely', 'help', 'deciding', 'whether', 'something', 'normal', 'abnormal', 'thus', 'guide', 'diagnosis', 'hematoma', 'develops', '25', 'weeks', 'surgery', 'wasnt', 'surgery', 'done', 'badly', 'like', 'actual', 'part', 'goes', 'inside', 'body', 'unless', 'youre', 'scrubbed', 'wearing', 'sterile', 'gloves', 'thats', 'definitely', 'break', 'asepsis', 'like', 'common', 'feeling', 'world', 'youre', 'starting', 'fact', 'feel', 'way', 'helps', 'keep', 'making', 'mistakesthe', 'important', 'thing', 'new', 'grad', 'solid', 'support', 'network', 'work', 'nurses', 'know', 'stuff', 'worth', 'weight', 'gold', 'mentor', 'senior', 'vet', 'pretty', 'much', 'mandatory', 'dont', 'worry', 'asking', 'questions', 'weve', 'new', 'grad', 'working', 'id', 'rather', 'ask', 'things', 'time', 'make', 'mistakes', 'time', 'gradually', 'transitioning', 'definitely', 'helps', 'reasonable', 'clinic', 'would', 'give', 'least', 'couple', 'days', 'prior', 'order', 'transition', 'staying', 'night', 'coffee', 'probably', 'helps', 'dont', 'drink', 'used', 'go', '7+', 'nights', 'row', 'regularly', 'thankfully', 'new', 'hospital', 'lot', 'fewer', 'nights', 'rotationit', 'rough', 'bit', 'theres', 'also', 'something', 'unique', 'almost', 'serene', 'nights', 'plus', 'get', 'meet', 'interesting', 'staff', 'hospital', 'bond', 'deep', 'level', 'bad', 'funny', 'question', 'ask', 'todays', 'computers', 'really', 'want', '16gb', 'minimum', 'unfortunately', 'ram', 'upgrades', 'upgrades', 'macbooks', 'way', 'prized', 'compared', 'get', 'talking', 'several', 'hundred', 'dollars', 'something', 'cost', 'like', '30', 'dollars', 'come', 'background', 'using', 'computer', 'advanced', 'programs', 'games', 'basic', 'stuff', '8gb', 'probably', 'enough', 'however', 'even', 'browsing', 'internet', 'uses', 'lot', 'ram', 'days', 'fellow', 'lefthanded', 'person', 'surgery', 'righthanded', 'instruments', 'annoying', 'definitely', 'possible', 'something', 'got', 'used', 'pretty', 'quickly', 'back', 'looked', 'couldnt', 'find', 'specific', 'lefthanded', 'instruments', 'years', 'back', 'uk', 'coming', 'different', 'country', 'claims', 'vets', 'underpaid', 'pretty', 'silly', 'perspective', 'make', 'equivalent', '49k', 'considered', 'fairly', 'good', 'salary', 'nonspecialised', 'vet', 'see', 'vets', 'making', 'twice', 'starting', 'plus', 'production', 'however', 'much', 'sound', 'weirdbut', 'remember', 'average', 'student', 'debt', 'vets', 'us', 'almost', 'triple', 'mine', 'dont', 'need', 'pay', 'health', 'insurance', 'etc', 'probably', 'evens', 'however', 'see', 'people', 'bringing', 'claims', '200300k', 'year', 'experience', 'idea', 'underpaid', 'kinda', 'falls', 'flat', 'regardless', 'looks', 'like', 'one', 'https', 'enmwikipediaorg', 'wiki', 'plumb_bobbut', 'idea', 'would', 'need', 'sterile', 'yes', 'wrong', 'unnecessary', 'surgery', 'save', 'trouble', 'clip', 'bails', 'every', 'month', 'outdated', 'harmful', 'practice', 'sounds', 'like', 'told', 'full', 'story', 'things', 'really', 'happened', 'describe', 'dog', 'strong', 'indication', 'surgery', 'medical', 'director', 'ought', 'able', 'see', 'notes', 'would', 'tell', 'owners', 'lol', 'good', 'luck', 'suing', 'say', 'gave', 'full', 'refund', 'something', 'doesnt', 'add', 'upeither', 'way', 'md', 'definitely', 'asked', 'case', 'always', 'super', 'important', 'get', 'vets', 'perspective', 'kind', 'cases', 'bad', 'blood', 'said', 'information', 'seems', 'incomplete', 'specific', 'example', 'big', 'difference', 'overuse', 'metronidazole', 'vs', 'overuse', 'prazosin', 'regard', 'possibility', 'antibiotic', 'resistance', 'development', 'youre', 'going', 'compare', 'two', 'disadvantage', 'reason', 'alone', 'would', 'definitely', 'consider', 'levetiracetam', 'control', 'secondary', 'seizures', 'pss', 'cases', 'awaiting', 'surgery', 'though'], tags=['Train_0']),\n",
       " TaggedDocument(words=['performed', 'neutering', 'procedure', 'cat'], tags=['Train_1']),\n",
       " TaggedDocument(words=['getting', 'touch', 'bittrex', 'exchanges', 'sort', 'guys', 'r', 'mysteriumnetwork', 'comments', '7q6v3w', 'why_is_mysterium_getting_delisted_from_bittrex', 'dsmyeuh', 'last', 'months', 'team', 'significantly', 'expanded', 'development', 'fire', 'latest', 'update', 'https', 'mediumcom', 'mysteriumnetwork', 'januarynews17072058b335', 'r', 'mysteriumnetwork', 'comments', '7q6v3w', 'why_is_mysterium_getting_delisted_from_bittrex', 'dsmyl6i', 'getting', 'touch', 'bittrex', 'exchanges', 'sort', 'guys', 'jurisdiction', 'different', 'require', 'different', 'approaches', 'working', 'solutions', 'found', 'one', 'well', 'inform', 'node', 'runners', 'please', 'mind', 'current', 'product', 'prealpha', 'provides', 'service', 'vpn', 'later', 'stages', 'node', 'operators', 'able', 'join', 'network', 'concrete', 'answers', 'time', 'hi', 'figuring', 'happened', 'release', 'information', 'soon', 'know', 'r', 'mysteriumnetwork', 'comments', '7q6v3w', 'why_is_mysterium_getting_delisted_from_bittrex', 'dsmvd9u', 'received', 'answer', 'bittrex', 'encourage', 'request', 'relisting', 'completed', 'fully', 'implemented', 'basic', 'application', 'intend', 'token', 'used', 'application', 'token', 'used', 'general', 'publicso', 'per', 'bittrex', 'listing', 'policy', 'reserve', 'right', 'delist', 'coin', 'product', 'yet', 'implemented', 'case', 'mysterium', 'everybody', 'understands', 'takes', 'time', 'build', 'decentralised', 'vpn', 'payments', 'token', 'could', 'used', 'still', 'negotiations', 'bittrex', 'getting', 'touch', 'exchanges', 'toowe', 'longrun', 'affect', 'way', 'promises', 'commitment', 'community', 'product', 'r', 'mysteriumnetwork', 'comments', '7q6v3w', 'why_is_mysterium_getting_delisted_from_bittrex', 'dsnuwvh', 'check', 'github', 'activity', 'say', 'active', 'https', 'githubcom', 'mysteriumnetwork', 'r', 'mysteriumnetwork', 'comments', '8dd1ex', 'mysterium_network_reddit_ama_april_2018', 'dxzx6ej', 'ill', 'give', 'answer', 'personal', 'point', 'view', 'next', 'quarter', 'plan', 'expand', 'team', 'senior', 'marketing', 'accounting', 'legal', 'professionals', 'important', 'thus', 'exciting', 'us', 'long', 'run', 'also', 'ready', 'start', 'collaborating', 'developers', 'working', 'remotely', 'bring', 'us', 'fresh', 'perspective', 'increase', 'chances', 'find', 'top', 'talent', 'need', 'four', 'ambitious', 'planswe', 'continue', 'working', 'organisational', 'structure', 'values', 'another', 'thing', 'huge', 'impact', 'team', 'future', 'also', 'excited', 'see', 'prealpha', 'mysterion', 'call', 'used', 'wider', 'audiences', 'biggest', 'disappointment', 'believe', 'could', 'people', 'team', 'really', 'focused', 'delisting', 'bittrex', 'big', 'distraction', 'personally', 'luckily', 'two', 'community', 'managers', 'clearer', 'internal', 'processes', 'great', 'mutual', 'understanding', 'within', 'team', 'focus', 'long', 'term', 'projects', 'matter', 'lot', 'ill', 'give', 'answer', 'personal', 'point', 'view', 'next', 'quarter', 'plan', 'expand', 'team', 'senior', 'marketing', 'accounting', 'legal', 'professionals', 'important', 'thus', 'exciting', 'us', 'long', 'run', 'also', 'ready', 'start', 'collaborating', 'developers', 'working', 'remotely', 'bring', 'us', 'fresh', 'perspective', 'increase', 'chances', 'find', 'top', 'talent', 'need', 'four', 'ambitious', 'planswe', 'continue', 'working', 'organisational', 'structure', 'values', 'another', 'thing', 'huge', 'impact', 'team', 'future', 'also', 'excited', 'see', 'prealpha', 'mysterion', 'call', 'used', 'wider', 'audiences', 'biggest', 'disappointment', 'believe', 'could', 'people', 'team', 'really', 'focused', 'delisting', 'bittrex', 'big', 'distraction', 'personally', 'luckily', 'two', 'community', 'managers', 'clearer', 'internal', 'processes', 'great', 'mutual', 'understanding', 'within', 'team', 'focus', 'long', 'term', 'projects', 'matter', 'lot', 'r', 'mysteriumnetwork', 'comments', '84sptz', 'mysterium_network_reddit_ama_march_2018', 'dvzw0cc', 'yet', 'beginning', 'october', 'r', 'mysteriumnetwork', 'comments', '73rmzi', 'september_updates_posted_oct_2nd', 'do63llj', 'received', 'answer', 'bittrex', 'encourage', 'request', 'relisting', 'completed', 'fully', 'implemented', 'basic', 'application', 'intend', 'token', 'used', 'application', 'token', 'used', 'general', 'publicso', 'per', 'bittrex', 'listing', 'policy', 'reserve', 'right', 'delist', 'coin', 'product', 'yet', 'implemented', 'case', 'mysterium', 'everybody', 'understands', 'takes', 'time', 'build', 'decentralised', 'vpn', 'payments', 'token', 'could', 'used', 'still', 'negotiations', 'bittrex', 'getting', 'touch', 'exchanges', 'toowe', 'longrun', 'affect', 'way', 'promises', 'commitment', 'community', 'product', 'hi', 'figuring', 'happened', 'release', 'information', 'soon', 'know', 'jurisdiction', 'different', 'require', 'different', 'approaches', 'working', 'solutions', 'found', 'one', 'well', 'inform', 'node', 'runners', 'please', 'mind', 'current', 'product', 'prealpha', 'provides', 'service', 'vpn', 'later', 'stages', 'node', 'operators', 'able', 'join', 'network', 'concrete', 'answers', 'time', 'r', 'mysteriumnetwork', 'comments', '84sptz', 'mysterium_network_reddit_ama_march_2018', 'dvzw8t7'], tags=['Train_2']),\n",
       " TaggedDocument(words=['yes', 'done', 'ive', 'switched', 'moved', 'tech', 'big', 'goal', 'health', 'vet', 'technology', 'tech', 'absolutely', 'hated', 'job', 'clients', 'wanted', 'flexibility', 'freedom', 'guilt', 'sick', 'taken', 'wanted', 'normal', 'clients', 'normal', 'schedule'], tags=['Train_3']),\n",
       " TaggedDocument(words=['china', 'east', 'also', 'problem', 'government', 'http', 'wwwasianewsit', 'newsen', 'beijingarrestsengineerwhotriedtobypassinternetcensorship32691html', 'r', 'mysteriumnetwork', 'comments', 'oqktx6', 'can_we_trust_mysterium_network_node_provider', 'hetda0i', 'people', 'got', 'trouble', 'running', 'tor', 'exit', 'node', 'germany', 'austria', 'usa', 'protections', 'hassle', 'prove', 'https', 'wwwvicecom', 'en', 'article', '5394ax', 'theoperators', 'r', 'mysteriumnetwork', 'comments', 'oqktx6', 'can_we_trust_mysterium_network_node_provider', 'hekl0yp'], tags=['Train_4'])]"
      ]
     },
     "execution_count": 9,
     "metadata": {},
     "output_type": "execute_result"
    }
   ],
   "source": [
    "all_data[:5]"
   ]
  },
  {
   "cell_type": "code",
   "execution_count": 10,
   "metadata": {},
   "outputs": [
    {
     "name": "stderr",
     "output_type": "stream",
     "text": [
      "  0%|          | 0/198 [00:00<?, ?it/s]"
     ]
    },
    {
     "name": "stderr",
     "output_type": "stream",
     "text": [
      "100%|██████████| 198/198 [00:00<00:00, 1422041.42it/s]\n",
      "100%|██████████| 198/198 [00:00<00:00, 3348678.19it/s]\n",
      "100%|██████████| 198/198 [00:00<00:00, 3954629.49it/s]\n",
      "100%|██████████| 198/198 [00:00<00:00, 3724090.55it/s]\n",
      "100%|██████████| 198/198 [00:00<00:00, 3610748.66it/s]\n",
      "100%|██████████| 198/198 [00:00<00:00, 3206456.34it/s]\n",
      "100%|██████████| 198/198 [00:00<00:00, 3348678.19it/s]\n",
      "100%|██████████| 198/198 [00:00<00:00, 3740865.73it/s]\n",
      "100%|██████████| 198/198 [00:00<00:00, 4111248.48it/s]\n",
      "100%|██████████| 198/198 [00:00<00:00, 3954629.49it/s]\n",
      "100%|██████████| 198/198 [00:00<00:00, 3348678.19it/s]\n",
      "100%|██████████| 198/198 [00:00<00:00, 3740865.73it/s]\n",
      "100%|██████████| 198/198 [00:00<00:00, 3898930.48it/s]\n",
      "100%|██████████| 198/198 [00:00<00:00, 3595117.71it/s]\n",
      "100%|██████████| 198/198 [00:00<00:00, 2571121.34it/s]\n",
      "100%|██████████| 198/198 [00:00<00:00, 3362235.60it/s]\n",
      "100%|██████████| 198/198 [00:00<00:00, 3595117.71it/s]\n",
      "100%|██████████| 198/198 [00:00<00:00, 3740865.73it/s]\n",
      "100%|██████████| 198/198 [00:00<00:00, 3348678.19it/s]\n",
      "100%|██████████| 198/198 [00:00<00:00, 3973551.16it/s]\n",
      "100%|██████████| 198/198 [00:00<00:00, 3880711.18it/s]\n",
      "100%|██████████| 198/198 [00:00<00:00, 4031418.41it/s]\n",
      "100%|██████████| 198/198 [00:00<00:00, 3518949.97it/s]\n",
      "100%|██████████| 198/198 [00:00<00:00, 4194304.00it/s]\n",
      "100%|██████████| 198/198 [00:00<00:00, 4489038.88it/s]\n",
      "100%|██████████| 198/198 [00:00<00:00, 3809505.47it/s]\n",
      "100%|██████████| 198/198 [00:00<00:00, 3880711.18it/s]\n",
      "100%|██████████| 198/198 [00:00<00:00, 2326252.64it/s]\n",
      "100%|██████████| 198/198 [00:00<00:00, 3658467.81it/s]\n",
      "100%|██████████| 198/198 [00:00<00:00, 1546503.15it/s]\n",
      "100%|██████████| 198/198 [00:00<00:00, 3740865.73it/s]\n"
     ]
    }
   ],
   "source": [
    "model_dbow = Doc2Vec(dm=0, vector_size=5, negative=5, min_count=1, alpha=0.065, min_alpha=0.065)\n",
    "model_dbow.build_vocab([x for x in tqdm(all_data)])\n",
    "\n",
    "for epoch in range(30):\n",
    "    model_dbow.train(utils.shuffle([x for x in tqdm(all_data)]), total_examples=len(all_data), epochs=1)\n",
    "    model_dbow.alpha -= 0.002\n",
    "    model_dbow.min_alpha = model_dbow.alpha"
   ]
  },
  {
   "cell_type": "code",
   "execution_count": 11,
   "metadata": {},
   "outputs": [
    {
     "name": "stderr",
     "output_type": "stream",
     "text": [
      "/var/folders/4b/y66j_ccs6336dsqfhxjxlcqw0000gn/T/ipykernel_9320/4079924961.py:13: DeprecationWarning: Call to deprecated `docvecs` (The `docvecs` property has been renamed `dv`.).\n",
      "  vectors[i] = model.docvecs[prefix]\n"
     ]
    }
   ],
   "source": [
    "def get_vectors(model, corpus_size, vectors_size, vectors_type):\n",
    "    \"\"\"\n",
    "    Get vectors from trained doc2vec model\n",
    "    :param doc2vec_model: Trained Doc2Vec model\n",
    "    :param corpus_size: Size of the data\n",
    "    :param vectors_size: Size of the embedding vectors\n",
    "    :param vectors_type: Training or Testing vectors\n",
    "    :return: list of vectors\n",
    "    \"\"\"\n",
    "    vectors = np.zeros((corpus_size, vectors_size))\n",
    "    for i in range(0, corpus_size):\n",
    "        prefix = vectors_type + '_' + str(i)\n",
    "        vectors[i] = model.docvecs[prefix]\n",
    "    return vectors\n",
    "    \n",
    "train_vectors_dbow = get_vectors(model_dbow, len(X_train), 5, 'Train')\n",
    "test_vectors_dbow = get_vectors(model_dbow, len(X_test), 5, 'Test')"
   ]
  },
  {
   "cell_type": "code",
   "execution_count": 12,
   "metadata": {},
   "outputs": [],
   "source": [
    "from sklearn.linear_model import LogisticRegression"
   ]
  },
  {
   "cell_type": "code",
   "execution_count": 13,
   "metadata": {},
   "outputs": [
    {
     "name": "stdout",
     "output_type": "stream",
     "text": [
      "accuracy 0.65\n"
     ]
    },
    {
     "ename": "NameError",
     "evalue": "name 'label_list' is not defined",
     "output_type": "error",
     "traceback": [
      "\u001b[0;31m---------------------------------------------------------------------------\u001b[0m",
      "\u001b[0;31mNameError\u001b[0m                                 Traceback (most recent call last)",
      "Cell \u001b[0;32mIn[13], line 6\u001b[0m\n\u001b[1;32m      4\u001b[0m y_pred \u001b[38;5;241m=\u001b[39m logreg\u001b[38;5;241m.\u001b[39mpredict(test_vectors_dbow)\n\u001b[1;32m      5\u001b[0m \u001b[38;5;28mprint\u001b[39m(\u001b[38;5;124m'\u001b[39m\u001b[38;5;124maccuracy \u001b[39m\u001b[38;5;132;01m%s\u001b[39;00m\u001b[38;5;124m'\u001b[39m \u001b[38;5;241m%\u001b[39m accuracy_score(y_pred, y_test))\n\u001b[0;32m----> 6\u001b[0m \u001b[38;5;28mprint\u001b[39m(classification_report(y_test, y_pred,target_names\u001b[38;5;241m=\u001b[39m\u001b[43mlabel_list\u001b[49m))\n",
      "\u001b[0;31mNameError\u001b[0m: name 'label_list' is not defined"
     ]
    }
   ],
   "source": [
    "logreg = LogisticRegression(n_jobs=1, C=1e5)\n",
    "logreg.fit(train_vectors_dbow, y_train)\n",
    "logreg = logreg.fit(train_vectors_dbow, y_train)\n",
    "y_pred = logreg.predict(test_vectors_dbow)\n",
    "print('accuracy %s' % accuracy_score(y_pred, y_test))\n",
    "print(classification_report(y_test, y_pred,target_names=label_list))"
   ]
  },
  {
   "cell_type": "code",
   "execution_count": 15,
   "metadata": {},
   "outputs": [],
   "source": [
    "from sklearn.linear_model import SGDClassifier\n"
   ]
  },
  {
   "cell_type": "code",
   "execution_count": 16,
   "metadata": {},
   "outputs": [
    {
     "name": "stdout",
     "output_type": "stream",
     "text": [
      "accuracy 0.45\n"
     ]
    },
    {
     "ename": "NameError",
     "evalue": "name 'label_list' is not defined",
     "output_type": "error",
     "traceback": [
      "\u001b[0;31m---------------------------------------------------------------------------\u001b[0m",
      "\u001b[0;31mNameError\u001b[0m                                 Traceback (most recent call last)",
      "Cell \u001b[0;32mIn[16], line 6\u001b[0m\n\u001b[1;32m      4\u001b[0m y_pred \u001b[38;5;241m=\u001b[39m logreg\u001b[38;5;241m.\u001b[39mpredict(test_vectors_dbow)\n\u001b[1;32m      5\u001b[0m \u001b[38;5;28mprint\u001b[39m(\u001b[38;5;124m'\u001b[39m\u001b[38;5;124maccuracy \u001b[39m\u001b[38;5;132;01m%s\u001b[39;00m\u001b[38;5;124m'\u001b[39m \u001b[38;5;241m%\u001b[39m accuracy_score(y_pred, y_test))\n\u001b[0;32m----> 6\u001b[0m \u001b[38;5;28mprint\u001b[39m(classification_report(y_test, y_pred,target_names\u001b[38;5;241m=\u001b[39m\u001b[43mlabel_list\u001b[49m))\n",
      "\u001b[0;31mNameError\u001b[0m: name 'label_list' is not defined"
     ]
    }
   ],
   "source": [
    "logreg = SGDClassifier(loss='hinge', penalty='l2',alpha=1e-3, random_state=42, max_iter=13, tol=None)\n",
    "logreg.fit(train_vectors_dbow, y_train)\n",
    "logreg = logreg.fit(train_vectors_dbow, y_train)\n",
    "y_pred = logreg.predict(test_vectors_dbow)\n",
    "print('accuracy %s' % accuracy_score(y_pred, y_test))\n",
    "print(classification_report(y_test, y_pred,target_names=label_list))"
   ]
  }
 ],
 "metadata": {
  "kernelspec": {
   "display_name": "ven",
   "language": "python",
   "name": "python3"
  },
  "language_info": {
   "codemirror_mode": {
    "name": "ipython",
    "version": 3
   },
   "file_extension": ".py",
   "mimetype": "text/x-python",
   "name": "python",
   "nbconvert_exporter": "python",
   "pygments_lexer": "ipython3",
   "version": "3.10.12"
  }
 },
 "nbformat": 4,
 "nbformat_minor": 2
}
