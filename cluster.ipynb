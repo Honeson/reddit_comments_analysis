{
 "cells": [
  {
   "cell_type": "code",
   "execution_count": 1,
   "metadata": {},
   "outputs": [],
   "source": [
    "import os\n",
    "import pandas as pd\n",
    "from sqlalchemy import create_engine\n",
    "import chromadb\n",
    "from dotenv import load_dotenv"
   ]
  },
  {
   "cell_type": "code",
   "execution_count": 2,
   "metadata": {},
   "outputs": [
    {
     "data": {
      "text/plain": [
       "True"
      ]
     },
     "execution_count": 2,
     "metadata": {},
     "output_type": "execute_result"
    }
   ],
   "source": [
    "load_dotenv()"
   ]
  },
  {
   "cell_type": "code",
   "execution_count": 3,
   "metadata": {},
   "outputs": [],
   "source": [
    "def get_data(database_url):\n",
    "    engine = create_engine(database_url)\n",
    "    query = \"SELECT * FROM reddit_usernames_comments\"\n",
    "    df = pd.read_sql(query, engine)\n",
    "    return df"
   ]
  },
  {
   "cell_type": "code",
   "execution_count": 5,
   "metadata": {},
   "outputs": [
    {
     "name": "stdout",
     "output_type": "stream",
     "text": [
      "<class 'pandas.core.frame.DataFrame'>\n",
      "RangeIndex: 3276 entries, 0 to 3275\n",
      "Data columns (total 2 columns):\n",
      " #   Column    Non-Null Count  Dtype \n",
      "---  ------    --------------  ----- \n",
      " 0   username  3276 non-null   object\n",
      " 1   comments  3276 non-null   object\n",
      "dtypes: object(2)\n",
      "memory usage: 51.3+ KB\n"
     ]
    }
   ],
   "source": [
    "database_url = os.getenv('DATABASE_URL')\n",
    "df = get_data(database_url)\n",
    "df.info()"
   ]
  },
  {
   "cell_type": "code",
   "execution_count": 6,
   "metadata": {},
   "outputs": [
    {
     "data": {
      "text/plain": [
       "['I think a lot of other people made some good points so I’m not going to repeat a lot of it. It’s never too late to consider vet med as a career and undergrad is a great opportunity to push yourself and make yourself competitive.\\n\\nI will play devils advocate though. I am a second year resident and I’m burnt out already. Undergrad is 4 years, vet school is another 4, and residency is 3. If you want to do aquatic medicine then it will likely be another 2 years of rotating and specialty internships before residency. That’s upwards of 13 years of training ahead of you. Vet Med can be rewarding, but it is hard and long to get to the end of your training. I’m not saying this to discourage you, but simply to make sure you know what you would be commuting to. You have to be driven and always keep your eye on the prize. Be prepared for long nights, long weeks, and long years.|As someone who knows people looking for path jobs in diagnostics/industry, this information is not current. Most diagnostic centers have placed a hold on hiring and industry has definitely slowed down. Also, pharma almost always requires a concurrent PhD.|Some of these comments are absolutely insane and just speak to how toxic the culture is in vet med. For most of you, stop cherry picking what OP said in the post. If the technician is calling the other doctors by their last name/title and refusing to call OP by it then it’s not a lack of respect, it is active disrespect. As a technician, I would never have disrespected a doctor like that. As a doctor now, I would expect the same respect as my other colleagues. I go by my first name because that’s how I like it, but as someone who was once a technician, the appropriate thing to do is to call them by their last name/title at first and feel it out or simply ask the what they prefer. \\n\\nFor those of you saying that respect is earned, OP earned that shit by completing 8+ years of schooling to get their degree (13+ for some of us). Did they know everything coming out? No. None of us do. Most of us understand that and are welcome to constructive advice (which I think it’s clear that OP is). What should not be acceptable is the nitpicking and hazing that is often given to new grads. There is a way to respectfully give advice. If you are a technician OR a doctor, this is a useful skill to learn. Technicians know things doctors don’t know and doctors don’t know things technicians know. Instead of belittling each other, they should create an environment where people are open to ask questions and share advice.|I think a lot of other people made some good points so I’m not going to repeat a lot of it. It’s never too late to consider vet med as a career and undergrad is a great opportunity to push yourself and make yourself competitive.\\n\\nI will play devils advocate though. I am a second year resident and I’m burnt out already. Undergrad is 4 years, vet school is another 4, and residency is 3. If you want to do aquatic medicine then it will likely be another 2 years of rotating and specialty internships before residency. That’s upwards of 13 years of training ahead of you. Vet Med can be rewarding, but it is hard and long to get to the end of your training. I’m not saying this to discourage you, but simply to make sure you know what you would be commuting to. You have to be driven and always keep your eye on the prize. Be prepared for long nights, long weeks, and long years.']"
      ]
     },
     "execution_count": 6,
     "metadata": {},
     "output_type": "execute_result"
    }
   ],
   "source": [
    "list(df[df['username']=='--solaris--']['comments'])"
   ]
  },
  {
   "cell_type": "code",
   "execution_count": null,
   "metadata": {},
   "outputs": [
    {
     "data": {
      "text/plain": [
       "'LoveAGoodTwist'"
      ]
     },
     "execution_count": 76,
     "metadata": {},
     "output_type": "execute_result"
    }
   ],
   "source": [
    "df['username'][0]"
   ]
  },
  {
   "cell_type": "code",
   "execution_count": 7,
   "metadata": {},
   "outputs": [],
   "source": [
    "df['comments'] = df['comments'].str.split('|', n=1).str[0]"
   ]
  },
  {
   "cell_type": "code",
   "execution_count": null,
   "metadata": {},
   "outputs": [
    {
     "data": {
      "text/plain": [
       "False"
      ]
     },
     "execution_count": 78,
     "metadata": {},
     "output_type": "execute_result"
    }
   ],
   "source": [
    "# Check if username column has duplicates\n",
    "df['username'].duplicated().any()"
   ]
  },
  {
   "cell_type": "code",
   "execution_count": 8,
   "metadata": {},
   "outputs": [
    {
     "name": "stderr",
     "output_type": "stream",
     "text": [
      "/Users/honesty/Desktop/Sunday/all_works/challenge/ven/lib/python3.10/site-packages/tqdm/auto.py:21: TqdmWarning: IProgress not found. Please update jupyter and ipywidgets. See https://ipywidgets.readthedocs.io/en/stable/user_install.html\n",
      "  from .autonotebook import tqdm as notebook_tqdm\n"
     ]
    }
   ],
   "source": [
    "from sentence_transformers import SentenceTransformer"
   ]
  },
  {
   "cell_type": "code",
   "execution_count": 9,
   "metadata": {},
   "outputs": [
    {
     "name": "stderr",
     "output_type": "stream",
     "text": [
      "/Users/honesty/Desktop/Sunday/all_works/challenge/ven/lib/python3.10/site-packages/huggingface_hub/file_download.py:1132: FutureWarning: `resume_download` is deprecated and will be removed in version 1.0.0. Downloads always resume when possible. If you want to force a new download, use `force_download=True`.\n",
      "  warnings.warn(\n",
      "/Users/honesty/Desktop/Sunday/all_works/challenge/ven/lib/python3.10/site-packages/huggingface_hub/file_download.py:1132: FutureWarning: `resume_download` is deprecated and will be removed in version 1.0.0. Downloads always resume when possible. If you want to force a new download, use `force_download=True`.\n",
      "  warnings.warn(\n"
     ]
    }
   ],
   "source": [
    "model = SentenceTransformer('all-MiniLM-L6-v2')"
   ]
  },
  {
   "cell_type": "code",
   "execution_count": 10,
   "metadata": {},
   "outputs": [
    {
     "name": "stderr",
     "output_type": "stream",
     "text": [
      "Batches: 100%|██████████| 103/103 [00:13<00:00,  7.78it/s]\n"
     ]
    }
   ],
   "source": [
    "embeddings = model.encode(df['comments'].tolist(), show_progress_bar=True)"
   ]
  },
  {
   "cell_type": "code",
   "execution_count": 11,
   "metadata": {},
   "outputs": [],
   "source": [
    "df['embeddings'] = list(embeddings)"
   ]
  },
  {
   "cell_type": "code",
   "execution_count": 12,
   "metadata": {},
   "outputs": [
    {
     "data": {
      "text/plain": [
       "0       [0.010265142, 0.021804111, 0.09015161, 0.03777...\n",
       "1       [0.025500813, 0.055280138, 0.056986548, 0.0642...\n",
       "2       [0.035866946, 0.06707864, 0.050283547, -0.0314...\n",
       "3       [0.031657185, -0.07286959, 0.031879846, 0.0158...\n",
       "4       [-0.009881736, -0.023968354, -0.0071312725, 0....\n",
       "                              ...                        \n",
       "3271    [0.06685015, -0.11729141, 0.01155566, -0.01828...\n",
       "3272    [0.023961065, -0.009860428, 0.00067358464, -0....\n",
       "3273    [-0.021498615, -0.031337075, 0.020569805, -0.0...\n",
       "3274    [-0.037924305, -0.0030589858, -0.011220716, -0...\n",
       "3275    [0.0053146393, 0.0147564905, 0.08191258, 0.011...\n",
       "Name: embeddings, Length: 3276, dtype: object"
      ]
     },
     "execution_count": 12,
     "metadata": {},
     "output_type": "execute_result"
    }
   ],
   "source": [
    "df['embeddings']"
   ]
  },
  {
   "cell_type": "code",
   "execution_count": 13,
   "metadata": {},
   "outputs": [],
   "source": [
    "from sklearn.cluster import KMeans"
   ]
  },
  {
   "cell_type": "code",
   "execution_count": 14,
   "metadata": {},
   "outputs": [
    {
     "name": "stderr",
     "output_type": "stream",
     "text": [
      "huggingface/tokenizers: The current process just got forked, after parallelism has already been used. Disabling parallelism to avoid deadlocks...\n",
      "To disable this warning, you can either:\n",
      "\t- Avoid using `tokenizers` before the fork if possible\n",
      "\t- Explicitly set the environment variable TOKENIZERS_PARALLELISM=(true | false)\n"
     ]
    }
   ],
   "source": [
    "# Number of clusters\n",
    "num_clusters = 7\n",
    "\n",
    "# Initialize KMeans\n",
    "kmeans = KMeans(n_clusters=num_clusters, random_state=42)\n",
    "\n",
    "# Fit the model on the embeddings\n",
    "kmeans.fit(embeddings)\n",
    "\n",
    "# Predict the cluster labels\n",
    "cluster_labels = kmeans.labels_\n",
    "\n",
    "# Add the cluster labels to your DataFrame\n",
    "df['cluster'] = cluster_labels"
   ]
  },
  {
   "cell_type": "code",
   "execution_count": 15,
   "metadata": {},
   "outputs": [
    {
     "data": {
      "text/html": [
       "<div>\n",
       "<style scoped>\n",
       "    .dataframe tbody tr th:only-of-type {\n",
       "        vertical-align: middle;\n",
       "    }\n",
       "\n",
       "    .dataframe tbody tr th {\n",
       "        vertical-align: top;\n",
       "    }\n",
       "\n",
       "    .dataframe thead th {\n",
       "        text-align: right;\n",
       "    }\n",
       "</style>\n",
       "<table border=\"1\" class=\"dataframe\">\n",
       "  <thead>\n",
       "    <tr style=\"text-align: right;\">\n",
       "      <th></th>\n",
       "      <th>username</th>\n",
       "      <th>comments</th>\n",
       "      <th>embeddings</th>\n",
       "      <th>cluster</th>\n",
       "    </tr>\n",
       "  </thead>\n",
       "  <tbody>\n",
       "    <tr>\n",
       "      <th>0</th>\n",
       "      <td>LoveAGoodTwist</td>\n",
       "      <td>Female, Kentucky.  4 years out. Work equine on...</td>\n",
       "      <td>[0.010265142, 0.021804111, 0.09015161, 0.03777...</td>\n",
       "      <td>1</td>\n",
       "    </tr>\n",
       "    <tr>\n",
       "      <th>1</th>\n",
       "      <td>wahznooski</td>\n",
       "      <td>As a woman of reproductive age, fuck Texas</td>\n",
       "      <td>[0.025500813, 0.055280138, 0.056986548, 0.0642...</td>\n",
       "      <td>3</td>\n",
       "    </tr>\n",
       "    <tr>\n",
       "      <th>2</th>\n",
       "      <td>Churro_The_fish_Girl</td>\n",
       "      <td>what makes you want to become a vet?</td>\n",
       "      <td>[0.035866946, 0.06707864, 0.050283547, -0.0314...</td>\n",
       "      <td>4</td>\n",
       "    </tr>\n",
       "    <tr>\n",
       "      <th>3</th>\n",
       "      <td>abarthch</td>\n",
       "      <td>I see of course there are changing variables, ...</td>\n",
       "      <td>[0.031657185, -0.07286959, 0.031879846, 0.0158...</td>\n",
       "      <td>6</td>\n",
       "    </tr>\n",
       "    <tr>\n",
       "      <th>4</th>\n",
       "      <td>VoodooKing</td>\n",
       "      <td>I have 412+ and faced issues because wireguard...</td>\n",
       "      <td>[-0.009881736, -0.023968354, -0.0071312725, 0....</td>\n",
       "      <td>6</td>\n",
       "    </tr>\n",
       "    <tr>\n",
       "      <th>...</th>\n",
       "      <td>...</td>\n",
       "      <td>...</td>\n",
       "      <td>...</td>\n",
       "      <td>...</td>\n",
       "    </tr>\n",
       "    <tr>\n",
       "      <th>3271</th>\n",
       "      <td>B1u3Chips_</td>\n",
       "      <td>I’m looking into applying for veterinary nursi...</td>\n",
       "      <td>[0.06685015, -0.11729141, 0.01155566, -0.01828...</td>\n",
       "      <td>4</td>\n",
       "    </tr>\n",
       "    <tr>\n",
       "      <th>3272</th>\n",
       "      <td>Daktari2018</td>\n",
       "      <td>Good for you for sticking to standards of care...</td>\n",
       "      <td>[0.023961065, -0.009860428, 0.00067358464, -0....</td>\n",
       "      <td>0</td>\n",
       "    </tr>\n",
       "    <tr>\n",
       "      <th>3273</th>\n",
       "      <td>Sheepb1</td>\n",
       "      <td>Yes feel free to ask someone to double check, ...</td>\n",
       "      <td>[-0.021498615, -0.031337075, 0.020569805, -0.0...</td>\n",
       "      <td>0</td>\n",
       "    </tr>\n",
       "    <tr>\n",
       "      <th>3274</th>\n",
       "      <td>Elyrath</td>\n",
       "      <td>Same! Helps massively. Errors can still occur,...</td>\n",
       "      <td>[-0.037924305, -0.0030589858, -0.011220716, -0...</td>\n",
       "      <td>2</td>\n",
       "    </tr>\n",
       "    <tr>\n",
       "      <th>3275</th>\n",
       "      <td>Real_Use_3216</td>\n",
       "      <td>It’s no different than undergrad. School is sc...</td>\n",
       "      <td>[0.0053146393, 0.0147564905, 0.08191258, 0.011...</td>\n",
       "      <td>1</td>\n",
       "    </tr>\n",
       "  </tbody>\n",
       "</table>\n",
       "<p>3276 rows × 4 columns</p>\n",
       "</div>"
      ],
      "text/plain": [
       "                  username                                           comments  \\\n",
       "0           LoveAGoodTwist  Female, Kentucky.  4 years out. Work equine on...   \n",
       "1               wahznooski         As a woman of reproductive age, fuck Texas   \n",
       "2     Churro_The_fish_Girl               what makes you want to become a vet?   \n",
       "3                 abarthch  I see of course there are changing variables, ...   \n",
       "4               VoodooKing  I have 412+ and faced issues because wireguard...   \n",
       "...                    ...                                                ...   \n",
       "3271            B1u3Chips_  I’m looking into applying for veterinary nursi...   \n",
       "3272           Daktari2018  Good for you for sticking to standards of care...   \n",
       "3273               Sheepb1  Yes feel free to ask someone to double check, ...   \n",
       "3274               Elyrath  Same! Helps massively. Errors can still occur,...   \n",
       "3275         Real_Use_3216  It’s no different than undergrad. School is sc...   \n",
       "\n",
       "                                             embeddings  cluster  \n",
       "0     [0.010265142, 0.021804111, 0.09015161, 0.03777...        1  \n",
       "1     [0.025500813, 0.055280138, 0.056986548, 0.0642...        3  \n",
       "2     [0.035866946, 0.06707864, 0.050283547, -0.0314...        4  \n",
       "3     [0.031657185, -0.07286959, 0.031879846, 0.0158...        6  \n",
       "4     [-0.009881736, -0.023968354, -0.0071312725, 0....        6  \n",
       "...                                                 ...      ...  \n",
       "3271  [0.06685015, -0.11729141, 0.01155566, -0.01828...        4  \n",
       "3272  [0.023961065, -0.009860428, 0.00067358464, -0....        0  \n",
       "3273  [-0.021498615, -0.031337075, 0.020569805, -0.0...        0  \n",
       "3274  [-0.037924305, -0.0030589858, -0.011220716, -0...        2  \n",
       "3275  [0.0053146393, 0.0147564905, 0.08191258, 0.011...        1  \n",
       "\n",
       "[3276 rows x 4 columns]"
      ]
     },
     "execution_count": 15,
     "metadata": {},
     "output_type": "execute_result"
    }
   ],
   "source": [
    "df"
   ]
  },
  {
   "cell_type": "code",
   "execution_count": null,
   "metadata": {},
   "outputs": [],
   "source": [
    "pd.set_option('display.width', None)"
   ]
  },
  {
   "cell_type": "code",
   "execution_count": 16,
   "metadata": {},
   "outputs": [],
   "source": [
    "comments_0 = df[df['cluster']==0] # vet doctors"
   ]
  },
  {
   "cell_type": "code",
   "execution_count": 17,
   "metadata": {},
   "outputs": [],
   "source": [
    "comments_0['comments'].to_csv('0.csv', index=False)"
   ]
  },
  {
   "cell_type": "code",
   "execution_count": 18,
   "metadata": {},
   "outputs": [],
   "source": [
    "comments_1 = df[df['cluster']==1] # other\n",
    "comments_1['comments'].to_csv('1.csv', index=False)"
   ]
  },
  {
   "cell_type": "code",
   "execution_count": 19,
   "metadata": {},
   "outputs": [],
   "source": [
    "comments_2 = df[df['cluster']==2] # other\n",
    "comments_2['comments'].to_csv('2.csv', index=False)"
   ]
  },
  {
   "cell_type": "code",
   "execution_count": 20,
   "metadata": {},
   "outputs": [],
   "source": [
    "comments_3 = df[df['cluster']==3] # other\n",
    "comments_3['comments'].to_csv('3.csv', index=False)"
   ]
  },
  {
   "cell_type": "code",
   "execution_count": null,
   "metadata": {},
   "outputs": [],
   "source": []
  },
  {
   "cell_type": "code",
   "execution_count": null,
   "metadata": {},
   "outputs": [
    {
     "data": {
      "text/plain": [
       "'But does it mean that something is wrong with my setup?|But does it mean that something is wrong with my setup?|But does it mean that something is wrong with my setup?|But does it mean that something is wrong with my setup?|But does it mean that something is wrong with my setup?|But does it mean that something is wrong with my setup?|But does it mean that something is wrong with my setup?|But does it mean that something is wrong with my setup?|But does it mean that something is wrong with my setup?|But does it mean that something is wrong with my setup?|But does it mean that something is wrong with my setup?|But does it mean that something is wrong with my setup?|But does it mean that something is wrong with my setup?|But does it mean that something is wrong with my setup?|But does it mean that something is wrong with my setup?|But does it mean that something is wrong with my setup?|But does it mean that something is wrong with my setup?|But does it mean that something is wrong with my setup?|But does it mean that something is wrong with my setup?|But does it mean that something is wrong with my setup?|But does it mean that something is wrong with my setup?|But does it mean that something is wrong with my setup?|But does it mean that something is wrong with my setup?|But does it mean that something is wrong with my setup?|But does it mean that something is wrong with my setup?|But does it mean that something is wrong with my setup?|But does it mean that something is wrong with my setup?|But does it mean that something is wrong with my setup?|But does it mean that something is wrong with my setup?|But does it mean that something is wrong with my setup? | But does it mean that something is wrong with my setup? ---> /r/MysteriumNetwork/comments/1cec08b/access_via_public_ip_not_working/l1ibhl4/'"
      ]
     },
     "execution_count": 49,
     "metadata": {},
     "output_type": "execute_result"
    }
   ],
   "source": [
    "comments['comments'][13]"
   ]
  }
 ],
 "metadata": {
  "kernelspec": {
   "display_name": "ven",
   "language": "python",
   "name": "python3"
  },
  "language_info": {
   "codemirror_mode": {
    "name": "ipython",
    "version": 3
   },
   "file_extension": ".py",
   "mimetype": "text/x-python",
   "name": "python",
   "nbconvert_exporter": "python",
   "pygments_lexer": "ipython3",
   "version": "3.10.12"
  }
 },
 "nbformat": 4,
 "nbformat_minor": 2
}
